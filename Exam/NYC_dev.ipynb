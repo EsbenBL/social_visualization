{
 "cells": [
  {
   "attachments": {},
   "cell_type": "markdown",
   "metadata": {},
   "source": [
    "# Introdution "
   ]
  },
  {
   "attachments": {},
   "cell_type": "markdown",
   "metadata": {},
   "source": [
    "The notebook is a behind-the-scenes look at the data wrangling behind the story on *The Urbanizational Evolution of New York City - From Seed to Apple* presented on https://esbenbl.github.io/\n",
    "\n",
    "\n",
    "The structure of the notebook is:\n",
    "1. [Motivation](#Motivation)\n",
    "2. [Basic Statistics](#base_stats)\n",
    "3. Data Analysis\n",
    "4. Genre\n",
    "5. Visualization\n",
    "6. Discussion\n",
    "7. Contribution\n",
    "8. References"
   ]
  },
  {
   "attachments": {},
   "cell_type": "markdown",
   "metadata": {},
   "source": [
    "# Motivation <a id=\"Motivation\"></a>\n",
    "\n",
    "\n",
    "Yes, we are."
   ]
  },
  {
   "attachments": {},
   "cell_type": "markdown",
   "metadata": {},
   "source": [
    "# Basic Statistics <a id=\"base_stats\"></a>"
   ]
  },
  {
   "cell_type": "code",
   "execution_count": null,
   "metadata": {},
   "outputs": [],
   "source": [
    "import geopandas as gpd\n",
    "import requests \n",
    "import matplotlib.pyplot as plt \n",
    "plt.rcParams[\"font.family\"] = \"Garamond\"\n",
    "import seaborn as sns\n",
    "import numpy as np\n",
    "import pandas as pd\n",
    "from scipy.interpolate import interp1d"
   ]
  },
  {
   "attachments": {},
   "cell_type": "markdown",
   "metadata": {},
   "source": [
    "load data"
   ]
  },
  {
   "cell_type": "code",
   "execution_count": null,
   "metadata": {},
   "outputs": [],
   "source": [
    "# Building footprints from https://data.cityofnewyork.us/Housing-Development/Building-Footprints/nqwf-w8eh\n",
    "# Documentation https://github.com/CityOfNewYork/nyc-geo-metadata/blob/master/Metadata/Metadata_BuildingFootprints.md\n",
    "building_footprints = gpd.read_file(\"Exam_datasets/Building_Footprints.geojson\") \n",
    "\n",
    "# NYC Borough GeoJson\n",
    "new_york_boroughs_map = gpd.read_file(\"https://raw.githubusercontent.com/codeforgermany/click_that_hood/main/public/data/new-york-city-boroughs.geojson\")\n",
    "\n",
    "# PLUTO Data from https://www.nyc.gov/site/planning/data-maps/open-data/dwn-pluto-mappluto.page\n",
    "columns_subset = [\"borough\",\"cd\", \"latitude\", \"longitude\", 'landuse', \"assesstot\", \"numbldgs\",\n",
    "                  \"numfloors\", \"unitstotal\", \"bldgarea\", \"comarea\", \"resarea\", \"bbl\"]\n",
    "land_use_dataaset = pd.read_csv(\"Exam_datasets/pluto_22v3_1.csv\")[columns_subset]"
   ]
  },
  {
   "attachments": {},
   "cell_type": "markdown",
   "metadata": {},
   "source": [
    "## Clean data "
   ]
  },
  {
   "attachments": {},
   "cell_type": "markdown",
   "metadata": {},
   "source": [
    "Clean BUILDING FOOTPRINTS"
   ]
  },
  {
   "cell_type": "code",
   "execution_count": null,
   "metadata": {},
   "outputs": [],
   "source": [
    "# remove missing construction_years\n",
    "building_footprints = building_footprints[-pd.isna(building_footprints.cnstrct_yr)].copy() \n",
    "\n",
    "# To int \n",
    "building_footprints.cnstrct_yr = building_footprints.cnstrct_yr.astype(\"int64\")\n",
    "\n",
    "# Construct bins \n",
    "ten_year_bins = [0]+[year for year in range(1899,2029,10)]+[2030]\n",
    "ten_year_labels = [\"Before 1900\"] + [str(year)+\"s\" for year in range(1900,2020,10)] + [\"2020s\"]\n",
    "\n",
    "# Into Bins\n",
    "building_footprints[\"cnstrct_yr_intervals\"] = pd.cut(building_footprints.cnstrct_yr, bins = ten_year_bins, labels = ten_year_labels)\n",
    "\n",
    "# Align BBL with PLUTOs datatypes \n",
    "building_footprints = building_footprints.rename(columns = {\"mpluto_bbl\":\"bbl\"})\n",
    "building_footprints.bbl = building_footprints.bbl.astype(\"int64\")\n",
    "\n",
    "# Distinguish geometry  \n",
    "building_footprints[\"building_geometry\"] = building_footprints.geometry.copy()"
   ]
  },
  {
   "attachments": {},
   "cell_type": "markdown",
   "metadata": {},
   "source": [
    "clean PLUTO land use data "
   ]
  },
  {
   "cell_type": "code",
   "execution_count": null,
   "metadata": {},
   "outputs": [],
   "source": [
    "# drop nan for PLUTO\n",
    "land_use_dataaset = land_use_dataaset.dropna().copy() # drop na \n",
    "land_use_dataaset.bbl = land_use_dataaset.bbl.astype(\"int64\") # to int \n",
    "\n",
    "# Dicts to convert values  \n",
    "landuse_key = {1:\"One & Two Family Building\",\n",
    "                2:\"Multi-Family Walk-Up Buildings\",\n",
    "                3:\"Multi-Family Elevator Buildings\",\n",
    "                4:\"Mixed Residential & Commercial Buildings\",\n",
    "                5:\"Commerical & Office Buildings\",\n",
    "                6:\"Industrial & Manufacturing Buildings\",\n",
    "                7:\"Transportation & Utility\",\n",
    "                8:\"Public Facilities & Institutions\",\n",
    "                9:\"Open Space & Outdoor Recreation\",\n",
    "                10: \"Parking Facilities\",\n",
    "                11:\"Vacant Land\"}\n",
    "\n",
    "borough_key = {\"BK\":\"Brooklyn\",\n",
    "               \"QN\":\"Queens\",\n",
    "               \"MN\":\"Manhattan\",\n",
    "               \"BX\":\"Bronx\",\n",
    "               \"SI\":\"Staten Island\"}\n",
    "\n",
    "# Map dicts\n",
    "land_use_dataaset.borough = land_use_dataaset.borough.apply(lambda x: borough_key[x])\n",
    "land_use_dataaset[\"landuse_label\"] =  land_use_dataaset.landuse.apply(lambda x: landuse_key[x])"
   ]
  },
  {
   "attachments": {},
   "cell_type": "markdown",
   "metadata": {},
   "source": [
    "### Merge datasets"
   ]
  },
  {
   "cell_type": "code",
   "execution_count": null,
   "metadata": {},
   "outputs": [],
   "source": [
    "buildings_and_landuse = pd.merge(building_footprints, land_use_dataaset, on = \"bbl\", how = \"outer\", indicator = True)"
   ]
  },
  {
   "attachments": {},
   "cell_type": "markdown",
   "metadata": {},
   "source": [
    "### Sanity Check on Merge "
   ]
  },
  {
   "cell_type": "code",
   "execution_count": null,
   "metadata": {},
   "outputs": [],
   "source": [
    "only_in_building_footprints = buildings_and_landuse.query(\"_merge == 'left_only'\")\n",
    "only_in_pluto = buildings_and_landuse.query(\"_merge == 'right_only'\")"
   ]
  },
  {
   "cell_type": "code",
   "execution_count": null,
   "metadata": {},
   "outputs": [],
   "source": [
    "print(f\"Buildings not found in Building Footprint: {only_in_pluto.shape[0]}\")\n",
    "only_in_pluto.borough.value_counts().plot.bar(title = \"Borough of lots not found in Building Footprints\", figsize = (8,4));"
   ]
  },
  {
   "cell_type": "code",
   "execution_count": null,
   "metadata": {},
   "outputs": [],
   "source": [
    "print(f\"Buildings not found in PLUTO: {only_in_building_footprints.shape[0]}\")\n",
    "only_in_building_footprints.cnstrct_yr_intervals.value_counts().sort_index().plot.bar(title = \"Construction decade of buildings not found in PLUTO\", figsize = (8,4));"
   ]
  },
  {
   "attachments": {},
   "cell_type": "markdown",
   "metadata": {},
   "source": [
    "### Keep only BBL matches"
   ]
  },
  {
   "cell_type": "code",
   "execution_count": null,
   "metadata": {},
   "outputs": [],
   "source": [
    "buildings_and_landuse = buildings_and_landuse.query(\"_merge == 'both'\").copy()\n",
    "buildings_and_landuse.cnstrct_yr = buildings_and_landuse.cnstrct_yr.astype(\"int64\")\n",
    "\n",
    "# Dimensions of dataset \n",
    "buildings_and_landuse.shape"
   ]
  },
  {
   "attachments": {},
   "cell_type": "markdown",
   "metadata": {},
   "source": [
    "## Plot Data"
   ]
  },
  {
   "attachments": {},
   "cell_type": "markdown",
   "metadata": {},
   "source": [
    "Plot Construction in different periods"
   ]
  },
  {
   "cell_type": "code",
   "execution_count": null,
   "metadata": {},
   "outputs": [],
   "source": [
    "fig, ax = plt.subplots(2, 2, figsize = (8,8))\n",
    "\n",
    "# Early plot \n",
    "new_york_boroughs_map.plot(color = \"white\", edgecolor = \"black\", alpha = 0.5, ax = ax[0][0])\n",
    "buildings_and_landuse.query(\"cnstrct_yr < 1900\").plot(markersize = 1, color = \"#E9655C\", alpha = 0.1, ax = ax[0][0])\n",
    "ax[0][0].set_title(\"Construction before 1900\", size = 20)\n",
    "ax[0][0].set_axis_off()\n",
    "\n",
    "# Middle plot \n",
    "new_york_boroughs_map.plot(color = \"white\", edgecolor = \"black\", alpha = 0.5, ax = ax[0][1])\n",
    "buildings_and_landuse.query(\"cnstrct_yr >= 1900 & cnstrct_yr < 1940\").plot(markersize = 1, color = \"#E9655C\", alpha = 0.1, ax = ax[0][1])\n",
    "ax[0][1].set_title(\"Construction between 1900 and 1940\", size = 20)\n",
    "ax[0][1].set_axis_off()\n",
    "\n",
    "# Early plot \n",
    "new_york_boroughs_map.plot(color = \"white\", edgecolor = \"black\", alpha = 0.5, ax = ax[1][0])\n",
    "buildings_and_landuse.query(\"cnstrct_yr >= 1940 & cnstrct_yr < 1980\").plot(markersize = 1, color = \"#E9655C\", alpha = 0.1, ax = ax[1][0])\n",
    "ax[1][0].set_title(\"Construction between 1940 and 1980\", size = 20)\n",
    "ax[1][0].set_axis_off()\n",
    "\n",
    "# Middle plot \n",
    "new_york_boroughs_map.plot(color = \"white\", edgecolor = \"black\", alpha = 0.5, ax = ax[1][1])\n",
    "buildings_and_landuse.query(\"cnstrct_yr >= 1980\").plot(markersize = 1, color = \"#E9655C\", alpha = 0.1, ax = ax[1][1])\n",
    "ax[1][1].set_title(\"Construction after 1980\", size = 20)\n",
    "ax[1][1].set_axis_off()\n",
    "\n",
    "plt.tight_layout()\n",
    "plt.show()"
   ]
  },
  {
   "attachments": {},
   "cell_type": "markdown",
   "metadata": {},
   "source": [
    "Plot Construction by decade "
   ]
  },
  {
   "cell_type": "code",
   "execution_count": null,
   "metadata": {},
   "outputs": [],
   "source": [
    "construction_by_year = buildings_and_landuse.groupby(\"cnstrct_yr_intervals\").size().sort_index()\n",
    "\n",
    "fig, ax  = plt.subplots(figsize = (10,6))\n",
    "construction_by_year.plot.bar(color = \"#E9655C\", alpha = 0.8, width = 0.8)\n",
    "ax.set_title(\"Construction by Decade\", size = 22)\n",
    "ax.set_ylabel(\"Buildings\", size = 20)\n",
    "ax.set_xlabel(\"\")\n",
    "plt.xticks(fontsize=15)\n",
    "plt.yticks(fontsize=15)\n",
    "ax.spines['top'].set_visible(False)\n",
    "ax.spines['right'].set_visible(False)\n",
    "\n",
    "plt.savefig(\"Plots/construction_by_decade.png\", dpi = 300, bbox_inches = \"tight\")\n",
    "plt.show()\n"
   ]
  },
  {
   "attachments": {},
   "cell_type": "markdown",
   "metadata": {},
   "source": [
    "By land use! "
   ]
  },
  {
   "cell_type": "code",
   "execution_count": null,
   "metadata": {},
   "outputs": [],
   "source": [
    "''' Make a stacked barplot here, divided into land use '''"
   ]
  },
  {
   "attachments": {},
   "cell_type": "markdown",
   "metadata": {},
   "source": [
    "### Plots By Bourough "
   ]
  },
  {
   "attachments": {},
   "cell_type": "markdown",
   "metadata": {},
   "source": [
    "Removed early observations "
   ]
  },
  {
   "cell_type": "code",
   "execution_count": null,
   "metadata": {},
   "outputs": [],
   "source": [
    "# Removed early observations \n",
    "buildings_and_landuse_trimmed = buildings_and_landuse.query(\"cnstrct_yr >= 1800\").copy()"
   ]
  },
  {
   "cell_type": "code",
   "execution_count": null,
   "metadata": {},
   "outputs": [],
   "source": [
    "#https://github.com/mwaskom/seaborn/issues/2280\n",
    "# Ændre position af sns legend \n",
    "def move_legend(ax, new_loc, **kws):\n",
    "    old_legend = ax.legend_\n",
    "    handles = old_legend.legend_handles\n",
    "    labels = [t.get_text() for t in old_legend.get_texts()]\n",
    "    title = old_legend.get_title().get_text().title()\n",
    "    ax.legend(handles, labels, loc=new_loc, title=title, **kws)"
   ]
  },
  {
   "cell_type": "markdown",
   "metadata": {},
   "source": [
    "Set xtick frequency (and labels, if necesarry)"
   ]
  },
  {
   "cell_type": "code",
   "execution_count": null,
   "metadata": {},
   "outputs": [],
   "source": [
    "## OBS - Kan bruges til at ændre xticts, men er ikke nødvendigt ift. position og label (i nedenstående er label og position dog det samme)\n",
    "custom_xticks_label = []\n",
    "custom_xticks_position = []\n",
    "\n",
    "for position, year_label in enumerate(sorted(buildings_and_landuse_trimmed.cnstrct_yr.unique())):\n",
    "    if year_label%10==0:\n",
    "        custom_xticks_label.extend([year_label])\n",
    "        custom_xticks_position.extend([position])"
   ]
  },
  {
   "cell_type": "code",
   "execution_count": null,
   "metadata": {},
   "outputs": [],
   "source": [
    "fig, ax  = plt.subplots(figsize = (10,5))\n",
    "plt.rcParams['legend.title_fontsize'] = 'x-large'\n",
    "\n",
    "sns.kdeplot(buildings_and_landuse_trimmed, x =\"cnstrct_yr\", hue = \"borough\", multiple = \"stack\", bw_adjust= 1.5, common_norm = True, linewidth = 0, zorder=1, ax = ax)\n",
    "move_legend(ax, \"upper left\", fontsize = \"x-large\")\n",
    "custom_xticks_position = custom_xticks_label # because x is numerical\n",
    "ax.set_xticks(ticks = custom_xticks_position, labels=custom_xticks_label, rotation=90)\n",
    "#ax.axvspan(xmin=1920, xmax=1930, color='#B6B9BB', alpha=0.5, zorder=0)\n",
    "ax.set_xlim([1800, 2030])\n",
    "ax.set_title(\"Construction by Year and Borough\", size = 22)\n",
    "\n",
    "ax.set_ylabel(\"Density of Probability\", size = 20)\n",
    "ax.set_xlabel(\"\")\n",
    "plt.xticks(fontsize=15)\n",
    "plt.yticks(fontsize=15)\n",
    "ax.spines['top'].set_visible(False)\n",
    "ax.spines['right'].set_visible(False)\n",
    "\n",
    "plt.savefig(\"Plots/construction_distribution_by_borough.png\", dpi = 300, bbox_inches = \"tight\")\n",
    "plt.tight_layout()\n",
    "plt.show()"
   ]
  },
  {
   "cell_type": "code",
   "execution_count": null,
   "metadata": {},
   "outputs": [],
   "source": [
    "# fig, ax  = plt.subplots(figsize = (10,6))\n",
    "\n",
    "# sns.kdeplot(buildings_and_landuse_trimmed, x =\"cnstrct_yr\", hue = \"borough\", multiple = \"stack\", bw_adjust= 1.5, common_norm = True, linewidth = 0, cumulative = True,  ax = ax)\n",
    "# move_legend(ax, \"upper left\")\n",
    "# custom_xticks_position = custom_xticks_label # because x is numerical\n",
    "# ax.set_xticks(ticks = custom_xticks_position, labels=custom_xticks_label, rotation=90)\n",
    "# ax.set_xlim([1800, 2030])\n",
    "# ax.set_title(\"Cumulative Construction by Year and Bourough\")\n",
    "\n",
    "# plt.tight_layout()\n",
    "# plt.show()"
   ]
  },
  {
   "attachments": {},
   "cell_type": "markdown",
   "metadata": {},
   "source": [
    "## By Square Feet \n",
    "\n",
    "Documentation: \n",
    "- COMMERCIAL FLOOR AREA is the sum of floor areas for office, retail, garage,\n",
    "storage, factory, and other uses."
   ]
  },
  {
   "cell_type": "markdown",
   "metadata": {},
   "source": [
    "By land use "
   ]
  },
  {
   "cell_type": "code",
   "execution_count": null,
   "metadata": {},
   "outputs": [],
   "source": [
    "fig, ax  = plt.subplots(figsize = (10,6))\n",
    "\n",
    "\n",
    "residential_squarefeet_by_decade = buildings_and_landuse.groupby(\"cnstrct_yr_intervals\").resarea.sum().sort_index()\n",
    "commercial_squarefeet_by_decade = buildings_and_landuse.groupby(\"cnstrct_yr_intervals\").comarea.sum().sort_index()\n",
    "\n",
    "residential_squarefeet_by_decade.plot.bar(ax=ax, color = \"#E9655C\",  alpha = 0.8, width = 0.8)\n",
    "commercial_squarefeet_by_decade.plot.bar(ax=ax, bottom = residential_squarefeet_by_decade, alpha = 0.8, color = \"skyblue\", width = 0.8)\n",
    "\n",
    "ax.set_title(\"Squarefeet by Decade\", size = 22)\n",
    "ax.set_ylabel(\"Square Feet\", size = 20)\n",
    "ax.set_xlabel(\"\")\n",
    "ax.legend([\"Residential\", \"Commercial\"], fontsize = \"x-large\")\n",
    "plt.xticks(fontsize=15)\n",
    "plt.yticks(fontsize=15)\n",
    "ax.spines['top'].set_visible(False)\n",
    "ax.spines['right'].set_visible(False)"
   ]
  },
  {
   "attachments": {},
   "cell_type": "markdown",
   "metadata": {},
   "source": [
    "OBS - IKKE SIKKER PÅ NEDENSTÅENDE! "
   ]
  },
  {
   "cell_type": "code",
   "execution_count": null,
   "metadata": {},
   "outputs": [],
   "source": [
    "fig, ax  = plt.subplots(figsize = (10,5))\n",
    "plt.rcParams['legend.title_fontsize'] = 'x-large'\n",
    "\n",
    "sns.kdeplot(buildings_and_landuse_trimmed, x =\"cnstrct_yr\",\n",
    "            hue = \"borough\",\n",
    "            weights = \"bldgarea\", \n",
    "            multiple = \"stack\", \n",
    "            bw_adjust= 1.5, \n",
    "            common_norm = True, \n",
    "            linewidth = 0, \n",
    "            zorder=1, \n",
    "            ax = ax)\n",
    "\n",
    "move_legend(ax, \"upper left\", fontsize = \"x-large\")\n",
    "custom_xticks_position = custom_xticks_label # because x is numerical\n",
    "ax.set_xticks(ticks = custom_xticks_position, labels=custom_xticks_label, rotation=90)\n",
    "#ax.axvspan(xmin=1920, xmax=1930, color='#B6B9BB', alpha=0.5, zorder=0)\n",
    "ax.set_xlim([1800, 2030])\n",
    "ax.set_title(\"Square Feet by Year and Borough\", size = 22)\n",
    "\n",
    "ax.set_ylabel(\"Density of Probability\", size = 20)\n",
    "ax.set_xlabel(\"\")\n",
    "plt.xticks(fontsize=15)\n",
    "plt.yticks(fontsize=15)\n",
    "ax.spines['top'].set_visible(False)\n",
    "ax.spines['right'].set_visible(False)\n",
    "\n",
    "plt.savefig(\"Plots/square_feet_distribution_by_borough.png\", dpi = 300, bbox_inches = \"tight\")\n",
    "plt.tight_layout()\n",
    "plt.show()"
   ]
  },
  {
   "attachments": {},
   "cell_type": "markdown",
   "metadata": {},
   "source": [
    "# HeatMap"
   ]
  },
  {
   "cell_type": "code",
   "execution_count": null,
   "metadata": {},
   "outputs": [],
   "source": [
    "def get_coords(geo_object):\n",
    "    '''Extract coordinate from point object. If Multipolygon, convert to centroid point first'''\n",
    "    try:\n",
    "        return [geo_object.y, geo_object.x]\n",
    "    except AttributeError: \n",
    "        to_point_object = geo_object.centroid\n",
    "        return [to_point_object.y,to_point_object.x]"
   ]
  },
  {
   "cell_type": "code",
   "execution_count": null,
   "metadata": {},
   "outputs": [],
   "source": [
    "# Extract coordinates from building points \n",
    "buildings_and_landuse_trimmed[\"building_coords\"] = buildings_and_landuse_trimmed.building_geometry.apply(lambda point: get_coords(point))"
   ]
  },
  {
   "cell_type": "code",
   "execution_count": null,
   "metadata": {},
   "outputs": [],
   "source": [
    "# Define data range\n",
    "data_range = range(1800, 2024)\n",
    "list_of_lists_with_coordinates = [buildings_and_landuse_trimmed.query(f\"cnstrct_yr == {year}\")[\"building_coords\"].values.tolist() for year in data_range]"
   ]
  },
  {
   "cell_type": "code",
   "execution_count": null,
   "metadata": {},
   "outputs": [],
   "source": [
    "import folium \n",
    "from folium import plugins\n",
    "\n",
    "\n",
    "# Create SF map \n",
    "NY_coord = [40.690610, -73.935242]\n",
    "NY_map = folium.Map(NY_coord,\n",
    "                    width=1000, \n",
    "                    height=600,\n",
    "                    tiles = 'cartodbpositron',\n",
    "                    zoom_start = 10,\n",
    "                    min_zoom = 10,\n",
    "                    max_lat = 41,\n",
    "                    min_lat = 40.3,\n",
    "                    max_lon = -73.3,\n",
    "                    min_lon = -74.5,\n",
    "                    max_bounds = True)\n",
    "\n",
    "# Heatmap \n",
    "hm = plugins.HeatMapWithTime(list_of_lists_with_coordinates,\n",
    "                             index = [f\"Year: {year}\" for year in data_range],\n",
    "                             auto_play = True,\n",
    "                             max_opacity=0.8)\n",
    "hm.add_to(NY_map)\n",
    "\n",
    "\n",
    "# add neighborhoods\n",
    "folium.GeoJson(new_york_boroughs_map[[\"geometry\", \"name\"]],\n",
    "                name = \"Bourough\",\n",
    "                tooltip=folium.GeoJsonTooltip(fields=['name'], aliases=['Bourough:']),\n",
    "                style_function =  lambda x: {\"fillColor\":\"#FF0045\" if x[\"properties\"][\"name\"]==\"Staten Island\" else \\\n",
    "                                                            \"#FFAA00\" if x[\"properties\"][\"name\"]==\"Queens\" else \\\n",
    "                                                            \"#FF0000\" if x[\"properties\"][\"name\"]==\"Brooklyn\" else \\\n",
    "                                                            \"#00BCFF\" if x[\"properties\"][\"name\"]==\"Manhattan\" else \\\n",
    "                                                            \"#B4FF00\" if x[\"properties\"][\"name\"]==\"Bronx\" else \"\",\n",
    "                                            \"color\":\"black\",\n",
    "                                            \"weight\":1}).add_to(NY_map)\n",
    "\n",
    "# Show plot \n",
    "NY_map"
   ]
  },
  {
   "attachments": {},
   "cell_type": "markdown",
   "metadata": {},
   "source": [
    "Convert and save map as HTML "
   ]
  },
  {
   "cell_type": "code",
   "execution_count": null,
   "metadata": {},
   "outputs": [],
   "source": [
    "map_html = NY_map._repr_html_()\n",
    "\n",
    "#  Creating an HTML file\n",
    "Func = open(\"Plots/folium_map.html\",\"w\")\n",
    "   \n",
    "# Adding input data to the HTML file\n",
    "Func.write(map_html)\n",
    "              \n",
    "# Saving the data into the HTML file\n",
    "Func.close()"
   ]
  },
  {
   "cell_type": "markdown",
   "metadata": {},
   "source": [
    "# Population data"
   ]
  },
  {
   "attachments": {},
   "cell_type": "markdown",
   "metadata": {},
   "source": [
    "From NYC Planning \n",
    "\n",
    "https://www.nyc.gov/site/planning/planning-level/nyc-population/historical-population.page"
   ]
  },
  {
   "cell_type": "code",
   "execution_count": null,
   "metadata": {},
   "outputs": [],
   "source": [
    "population_by_borough = pd.read_excel(\"https://www.nyc.gov/assets/planning/download/office/planning-level/nyc-population/historical-population/nyc_total_pop_1900-2010.xlsx\", skiprows = 3, index_col = 0)\n",
    "population_by_borough = population_by_borough.dropna().reset_index(names = [\"decade\"])\n",
    "# Plot \n",
    "population_by_borough.set_index(\"decade\").plot()"
   ]
  },
  {
   "attachments": {},
   "cell_type": "markdown",
   "metadata": {},
   "source": [
    "Foreign Born Population "
   ]
  },
  {
   "cell_type": "code",
   "execution_count": null,
   "metadata": {},
   "outputs": [],
   "source": [
    "foreign_born_pop = pd.read_excel(\"https://www.nyc.gov/assets/planning/download/office/planning-level/nyc-population/historical-population/nyc_fb_pop_1900-2010.xlsx\", skiprows = 3, index_col = 0)\n",
    "foreign_born_pop = foreign_born_pop.dropna().reset_index(names = [\"decade\"])\n",
    "foreign_born_pop.decade = foreign_born_pop.decade.apply(lambda x: str(x).replace(\"*\",\"\")).astype(int)\n",
    "\n",
    "foreign_born_pop.set_index(\"decade\").plot()"
   ]
  },
  {
   "cell_type": "markdown",
   "metadata": {},
   "source": [
    "Kan lave kald direkte hertil: https://communityprofiles.planning.nyc.gov/?fbclid=IwAR1crIlc07XCsadzbgDzb2OWUodbM0SI3LMV7zICdrMmNJ-reBRG3zYc9p8"
   ]
  },
  {
   "cell_type": "code",
   "execution_count": null,
   "metadata": {},
   "outputs": [],
   "source": [
    "age_gender_dist = pd.read_csv(\"https://edm-publishing.nyc3.digitaloceanspaces.com/db-community-profiles/latest/output/cd_demo_age_gender.csv\")\n",
    "pov_race_dist = pd.read_csv(\"https://edm-publishing.nyc3.digitaloceanspaces.com/db-community-profiles/latest/output/cd_demo_race_economics.csv\") \n",
    "build_and_land_use = pd.read_csv(\"https://edm-publishing.nyc3.digitaloceanspaces.com/db-community-profiles/latest/output/cd_built_environment.csv\") "
   ]
  },
  {
   "cell_type": "markdown",
   "metadata": {},
   "source": [
    "rester "
   ]
  },
  {
   "cell_type": "code",
   "execution_count": null,
   "metadata": {},
   "outputs": [],
   "source": [
    "# # Reverse geocode --> Join Point on Multipolygons \n",
    "# building_footprints[\"building_geometry\"] = building_footprints.geometry.copy() # distinquish between geometry columns \n",
    "# buildings_in_bouroughs = gpd.sjoin(new_york_boroughs_map, building_footprints).reset_index(drop = True) # geo-merge\n",
    "# buildings_in_bouroughs = buildings_in_bouroughs.rename(columns = {\"name_left\":\"Bourough\"}) # Rename"
   ]
  }
 ],
 "metadata": {
  "kernelspec": {
   "display_name": "social-visualization-TfeufWp2-py3.8",
   "language": "python",
   "name": "python3"
  },
  "language_info": {
   "codemirror_mode": {
    "name": "ipython",
    "version": 3
   },
   "file_extension": ".py",
   "mimetype": "text/x-python",
   "name": "python",
   "nbconvert_exporter": "python",
   "pygments_lexer": "ipython3",
   "version": "3.8.3"
  },
  "orig_nbformat": 4,
  "vscode": {
   "interpreter": {
    "hash": "0568a2d64552a1c5eacd6d49bfdb6dc9b3c921772f8c82e33aa966dc289da78d"
   }
  }
 },
 "nbformat": 4,
 "nbformat_minor": 2
}
