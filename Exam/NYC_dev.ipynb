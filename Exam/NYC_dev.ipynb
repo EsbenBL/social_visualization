{
 "cells": [
  {
   "attachments": {},
   "cell_type": "markdown",
   "metadata": {},
   "source": [
    "# Introdution "
   ]
  },
  {
   "attachments": {},
   "cell_type": "markdown",
   "metadata": {},
   "source": [
    "The notebook is a behind-the-scenes look at the data wrangling behind the story on *The Urbanizational Evolution of New York City - From Seed to Apple* presented on https://esbenbl.github.io/\n",
    "\n",
    "\n",
    "The structure of the notebook is:\n",
    "1. [Motivation](#Motivation)\n",
    "2. [Basic Statistics](#base_stats)\n",
    "3. [Data Analysis](#Data Analysis)\n",
    "4. [Genre](#Genre)\n",
    "\n",
    "Overall our website and data story structure will be rather linear, structured, with most in common with the magazine visualization genre described by Segel and Heer. But as we also are concerned with keeping the reader active and engaged, we will also incorporate interactive plots in which the reader can explore and engage within the frames of our data story and magazine style, thus if a reader for example have an interest in a specific neighborhood in New York it will be possible to specifically mouse over that and see that neighborhoods data. \n",
    "\n",
    "5. [Visualization](#Visualization)\n",
    "6. [Discussion](#Discussion)\n",
    "7. [Contribution](#Controbution)\n",
    "8. [References](#References)"
   ]
  },
  {
   "attachments": {},
   "cell_type": "markdown",
   "metadata": {},
   "source": [
    "# Motivation <a id=\"Motivation\"></a>\n",
    "\n",
    "\n",
    "New York is one of the most renowned and global metropolises in the world, some even call it the Capital of the World. In the 19th century due to waves of immigration and industrialization the city's population exploded, also transforming New York. The transformation of New York City’s physical, social and cultural landscape during the 19th time period shaped the cities identity and influenced the development of urban planning, transportation and social policies that continue to shape the city's urban fabric today. Studying the evolution of New York City's urbanization thus provides a rich historical context for understanding contemporary urban challenges and opportunities, making it an interesting and relevant subject for examination. \n",
    "\n",
    "We will examine New York's urbanization through data from NYC Department of City Planning, where we will combine two datasets from the department. The first dataset is of the 800.000 buildings in New York and their placement, and the second shows the characteristics of the land use and geographic data which the buildings are built upon. Thus we get a full dataset on both the year of each individual building as well as the type of building, eg. is it commercial or residential. Furthermore we also consider including more data on neighborhood level from New york maybe regarding the overall evolution of other parameters in New York's neighborhoods such as, crime, income, education, or the overall evolution of the metropolis such as subways, schools, hospitals.  etc. \n"
   ]
  },
  {
   "attachments": {},
   "cell_type": "markdown",
   "metadata": {},
   "source": [
    "# Basic Statistics <a id=\"base_stats\"></a>"
   ]
  },
  {
   "cell_type": "code",
   "execution_count": null,
   "metadata": {},
   "outputs": [],
   "source": [
    "import geopandas as gpd\n",
    "import requests \n",
    "import matplotlib.pyplot as plt \n",
    "%matplotlib inline\n",
    "plt.rcParams[\"font.family\"] = \"Garamond\"\n",
    "import seaborn as sns\n",
    "import numpy as np\n",
    "import pandas as pd\n",
    "import requests\n",
    "import folium \n",
    "from folium import plugins\n",
    "import warnings\n",
    "warnings.filterwarnings(\"ignore\")\n",
    "import matplotlib.colors as mcolors\n",
    "import plotly.graph_objs as go\n",
    "import plotly.express as px\n",
    "import json"
   ]
  },
  {
   "attachments": {},
   "cell_type": "markdown",
   "metadata": {},
   "source": [
    "Define cmap"
   ]
  },
  {
   "cell_type": "code",
   "execution_count": null,
   "metadata": {},
   "outputs": [],
   "source": [
    "DISCRETE_COLORS = [\n",
    "    \"#487C4F\",\n",
    "    \"#3D4D55\", \n",
    "    \"#AF6F41\",  \n",
    "    \"#44463E\", \n",
    "    \"#EAE7E3\", \n",
    "    \"#2A6271\", \n",
    "    \"#337F64\", \n",
    "    \"#90A48F\", \n",
    "    \"#BEBCA9\"]\n",
    "\n",
    "N_colors = 9\n",
    "\n",
    "CONTINUOUS_COLORS = mcolors.LinearSegmentedColormap.from_list(\n",
    "    \"Custom\", DISCRETE_COLORS, N=N_colors\n",
    ")\n",
    "\n",
    "HEXCOLOR_LIST = [mcolors.rgb2hex(CONTINUOUS_COLORS(i)) for i in range(N_colors)]"
   ]
  },
  {
   "attachments": {},
   "cell_type": "markdown",
   "metadata": {},
   "source": [
    "load data"
   ]
  },
  {
   "cell_type": "code",
   "execution_count": null,
   "metadata": {},
   "outputs": [],
   "source": [
    "# Building footprints from https://data.cityofnewyork.us/Housing-Development/Building-Footprints/nqwf-w8eh\n",
    "# Documentation https://github.com/CityOfNewYork/nyc-geo-metadata/blob/master/Metadata/Metadata_BuildingFootprints.md\n",
    "building_footprints = gpd.read_file(\"Exam_datasets/Building_Footprints.geojson\") \n",
    "\n",
    "# NYC Borough GeoJson\n",
    "new_york_boroughs_map = gpd.read_file(\"https://raw.githubusercontent.com/codeforgermany/click_that_hood/main/public/data/new-york-city-boroughs.geojson\")\n",
    "\n",
    "# PLUTO Data from https://www.nyc.gov/site/planning/data-maps/open-data/dwn-pluto-mappluto.page\n",
    "columns_subset = [\"borough\",\"cd\", \"latitude\", \"longitude\", 'landuse', \"assesstot\", \"numbldgs\",\n",
    "                  \"numfloors\", \"unitstotal\", \"bldgarea\", \"comarea\", \"resarea\", \"bbl\"]\n",
    "land_use_dataaset = pd.read_csv(\"Exam_datasets/pluto_22v3_1.csv\")[columns_subset]"
   ]
  },
  {
   "attachments": {},
   "cell_type": "markdown",
   "metadata": {},
   "source": [
    "## Clean data "
   ]
  },
  {
   "attachments": {},
   "cell_type": "markdown",
   "metadata": {},
   "source": [
    "Clean BUILDING FOOTPRINTS"
   ]
  },
  {
   "cell_type": "code",
   "execution_count": null,
   "metadata": {},
   "outputs": [],
   "source": [
    "# remove missing construction_years\n",
    "building_footprints = building_footprints[-pd.isna(building_footprints.cnstrct_yr)].copy() \n",
    "\n",
    "# To int \n",
    "building_footprints.cnstrct_yr = building_footprints.cnstrct_yr.astype(\"int64\")\n",
    "\n",
    "# Construct bins \n",
    "ten_year_bins = [0]+[year for year in range(1899,2029,10)]+[2030]\n",
    "ten_year_labels = [\"Before 1900\"] + [str(year)+\"s\" for year in range(1900,2020,10)] + [\"2020s\"]\n",
    "\n",
    "# Into Bins\n",
    "building_footprints[\"cnstrct_yr_intervals\"] = pd.cut(building_footprints.cnstrct_yr, bins = ten_year_bins, labels = ten_year_labels)\n",
    "\n",
    "# Align BBL with PLUTOs datatypes \n",
    "building_footprints = building_footprints.rename(columns = {\"mpluto_bbl\":\"bbl\"})\n",
    "building_footprints.bbl = building_footprints.bbl.astype(\"int64\")\n",
    "\n",
    "# Distinguish geometry  \n",
    "building_footprints[\"building_geometry\"] = building_footprints.geometry.copy()"
   ]
  },
  {
   "attachments": {},
   "cell_type": "markdown",
   "metadata": {},
   "source": [
    "clean PLUTO land use data "
   ]
  },
  {
   "cell_type": "code",
   "execution_count": null,
   "metadata": {},
   "outputs": [],
   "source": [
    "# drop nan for PLUTO\n",
    "land_use_dataaset = land_use_dataaset.dropna().copy() # drop na \n",
    "land_use_dataaset.bbl = land_use_dataaset.bbl.astype(\"int64\") # to int \n",
    "\n",
    "# Dicts to convert values  \n",
    "landuse_key = {1:\"One & Two Family Building\",\n",
    "                2:\"Multi-Family Walk-Up Buildings\",\n",
    "                3:\"Multi-Family Elevator Buildings\",\n",
    "                4:\"Mixed Residential & Commercial Buildings\",\n",
    "                5:\"Commerical & Office Buildings\",\n",
    "                6:\"Industrial & Manufacturing Buildings\",\n",
    "                7:\"Transportation & Utility\",\n",
    "                8:\"Public Facilities & Institutions\",\n",
    "                9:\"Open Space & Outdoor Recreation\",\n",
    "                10: \"Parking Facilities\",\n",
    "                11:\"Vacant Land\"}\n",
    "\n",
    "borough_key = {\"BK\":\"Brooklyn\",\n",
    "               \"QN\":\"Queens\",\n",
    "               \"MN\":\"Manhattan\",\n",
    "               \"BX\":\"Bronx\",\n",
    "               \"SI\":\"Staten Island\"}\n",
    "\n",
    "# Map dicts\n",
    "land_use_dataaset.borough = land_use_dataaset.borough.apply(lambda x: borough_key[x])\n",
    "land_use_dataaset[\"landuse_label\"] =  land_use_dataaset.landuse.apply(lambda x: landuse_key[x])"
   ]
  },
  {
   "attachments": {},
   "cell_type": "markdown",
   "metadata": {},
   "source": [
    "### Merge datasets"
   ]
  },
  {
   "cell_type": "code",
   "execution_count": null,
   "metadata": {},
   "outputs": [],
   "source": [
    "buildings_and_landuse = pd.merge(building_footprints, land_use_dataaset, on = \"bbl\", how = \"outer\", indicator = True)"
   ]
  },
  {
   "attachments": {},
   "cell_type": "markdown",
   "metadata": {},
   "source": [
    "### Sanity Check on Merge "
   ]
  },
  {
   "cell_type": "code",
   "execution_count": null,
   "metadata": {},
   "outputs": [],
   "source": [
    "only_in_building_footprints = buildings_and_landuse.query(\"_merge == 'left_only'\")\n",
    "only_in_pluto = buildings_and_landuse.query(\"_merge == 'right_only'\")"
   ]
  },
  {
   "cell_type": "code",
   "execution_count": null,
   "metadata": {},
   "outputs": [],
   "source": [
    "print(f\"Buildings not found in Building Footprint: {only_in_pluto.shape[0]}\")\n",
    "only_in_pluto.borough.value_counts().plot.bar(title = \"Borough of lots not found in Building Footprints\", figsize = (8,4));"
   ]
  },
  {
   "cell_type": "code",
   "execution_count": null,
   "metadata": {},
   "outputs": [],
   "source": [
    "print(f\"Buildings not found in PLUTO: {only_in_building_footprints.shape[0]}\")\n",
    "only_in_building_footprints.cnstrct_yr_intervals.value_counts().sort_index().plot.bar(title = \"Construction decade of buildings not found in PLUTO\", figsize = (8,4));"
   ]
  },
  {
   "attachments": {},
   "cell_type": "markdown",
   "metadata": {},
   "source": [
    "### Keep only BBL matches"
   ]
  },
  {
   "cell_type": "code",
   "execution_count": null,
   "metadata": {},
   "outputs": [],
   "source": [
    "buildings_and_landuse = buildings_and_landuse.query(\"_merge == 'both'\").copy()\n",
    "buildings_and_landuse.cnstrct_yr = buildings_and_landuse.cnstrct_yr.astype(\"int64\")\n",
    "\n",
    "# Dimensions of dataset \n",
    "buildings_and_landuse.shape"
   ]
  },
  {
   "attachments": {},
   "cell_type": "markdown",
   "metadata": {},
   "source": [
    "## Plot Data"
   ]
  },
  {
   "attachments": {},
   "cell_type": "markdown",
   "metadata": {},
   "source": [
    "Plot Construction by decade "
   ]
  },
  {
   "cell_type": "code",
   "execution_count": null,
   "metadata": {},
   "outputs": [],
   "source": [
    "construction_by_year = buildings_and_landuse.groupby(\"cnstrct_yr_intervals\").size().sort_index()\n",
    "\n",
    "fig, ax  = plt.subplots(figsize = (10,6))\n",
    "construction_by_year.plot.bar(color = \"#E9655C\", alpha = 0.8, width = 0.8)\n",
    "ax.set_title(\"Construction by Decade\", size = 22)\n",
    "ax.set_ylabel(\"Buildings\", size = 20)\n",
    "ax.set_xlabel(\"\")\n",
    "plt.xticks(fontsize=15)\n",
    "plt.yticks(fontsize=15)\n",
    "ax.spines['top'].set_visible(False)\n",
    "ax.spines['right'].set_visible(False)\n",
    "\n",
    "plt.savefig(\"Plots/construction_by_decade.png\", dpi = 300, bbox_inches = \"tight\")\n",
    "plt.show()\n"
   ]
  },
  {
   "attachments": {},
   "cell_type": "markdown",
   "metadata": {},
   "source": [
    "By land use! "
   ]
  },
  {
   "cell_type": "code",
   "execution_count": null,
   "metadata": {},
   "outputs": [],
   "source": [
    "''' Make a stacked barplot here, divided into land use '''"
   ]
  },
  {
   "attachments": {},
   "cell_type": "markdown",
   "metadata": {},
   "source": [
    "### Plots By Bourough "
   ]
  },
  {
   "attachments": {},
   "cell_type": "markdown",
   "metadata": {},
   "source": [
    "Removed early observations "
   ]
  },
  {
   "cell_type": "code",
   "execution_count": null,
   "metadata": {},
   "outputs": [],
   "source": [
    "# Removed early observations \n",
    "buildings_and_landuse_trimmed = buildings_and_landuse.query(\"cnstrct_yr >= 1800\").copy()"
   ]
  },
  {
   "cell_type": "code",
   "execution_count": null,
   "metadata": {},
   "outputs": [],
   "source": [
    "#https://github.com/mwaskom/seaborn/issues/2280\n",
    "# Ændre position af sns legend \n",
    "def move_legend(ax, new_loc, **kws):\n",
    "    old_legend = ax.legend_\n",
    "    handles = old_legend.legend_handles\n",
    "    labels = [t.get_text() for t in old_legend.get_texts()]\n",
    "    title = old_legend.get_title().get_text().title()\n",
    "    ax.legend(handles, labels, loc=new_loc, title=title, **kws)"
   ]
  },
  {
   "cell_type": "markdown",
   "metadata": {},
   "source": [
    "Set xtick frequency (and labels, if necesarry)"
   ]
  },
  {
   "cell_type": "code",
   "execution_count": null,
   "metadata": {},
   "outputs": [],
   "source": [
    "## OBS - Kan bruges til at ændre xticts, men er ikke nødvendigt ift. position og label (i nedenstående er label og position dog det samme)\n",
    "custom_xticks_label = []\n",
    "custom_xticks_position = []\n",
    "\n",
    "for position, year_label in enumerate(sorted(buildings_and_landuse_trimmed.cnstrct_yr.unique())):\n",
    "    if year_label%10==0:\n",
    "        custom_xticks_label.extend([year_label])\n",
    "        custom_xticks_position.extend([position])"
   ]
  },
  {
   "cell_type": "code",
   "execution_count": null,
   "metadata": {},
   "outputs": [],
   "source": [
    "fig, ax  = plt.subplots(figsize = (10,5))\n",
    "plt.rcParams['legend.title_fontsize'] = 'x-large'\n",
    "\n",
    "sns.kdeplot(buildings_and_landuse_trimmed, x =\"cnstrct_yr\", hue = \"borough\", multiple = \"stack\", bw_adjust= 1.5, common_norm = True, linewidth = 0, zorder=1, ax = ax)\n",
    "move_legend(ax, \"upper left\", fontsize = \"x-large\")\n",
    "custom_xticks_position = custom_xticks_label # because x is numerical\n",
    "ax.set_xticks(ticks = custom_xticks_position, labels=custom_xticks_label, rotation=90)\n",
    "#ax.axvspan(xmin=1920, xmax=1930, color='#B6B9BB', alpha=0.5, zorder=0)\n",
    "ax.set_xlim([1800, 2030])\n",
    "ax.set_title(\"Construction by Year and Borough\", size = 22)\n",
    "\n",
    "ax.set_ylabel(\"Density of Probability\", size = 20)\n",
    "ax.set_xlabel(\"\")\n",
    "plt.xticks(fontsize=15)\n",
    "plt.yticks(fontsize=15)\n",
    "ax.spines['top'].set_visible(False)\n",
    "ax.spines['right'].set_visible(False)\n",
    "\n",
    "plt.savefig(\"Plots/construction_distribution_by_borough.png\", dpi = 300, bbox_inches = \"tight\")\n",
    "plt.tight_layout()\n",
    "plt.show()"
   ]
  },
  {
   "cell_type": "code",
   "execution_count": null,
   "metadata": {},
   "outputs": [],
   "source": [
    "# fig, ax  = plt.subplots(figsize = (10,6))\n",
    "\n",
    "# sns.kdeplot(buildings_and_landuse_trimmed, x =\"cnstrct_yr\", hue = \"borough\", multiple = \"stack\", bw_adjust= 1.5, common_norm = True, linewidth = 0, cumulative = True,  ax = ax)\n",
    "# move_legend(ax, \"upper left\")\n",
    "# custom_xticks_position = custom_xticks_label # because x is numerical\n",
    "# ax.set_xticks(ticks = custom_xticks_position, labels=custom_xticks_label, rotation=90)\n",
    "# ax.set_xlim([1800, 2030])\n",
    "# ax.set_title(\"Cumulative Construction by Year and Bourough\")\n",
    "\n",
    "# plt.tight_layout()\n",
    "# plt.show()"
   ]
  },
  {
   "attachments": {},
   "cell_type": "markdown",
   "metadata": {},
   "source": [
    "## By Square Feet \n",
    "\n",
    "Documentation: \n",
    "- COMMERCIAL FLOOR AREA is the sum of floor areas for office, retail, garage,\n",
    "storage, factory, and other uses."
   ]
  },
  {
   "cell_type": "markdown",
   "metadata": {},
   "source": [
    "By land use "
   ]
  },
  {
   "cell_type": "code",
   "execution_count": null,
   "metadata": {},
   "outputs": [],
   "source": [
    "fig, ax  = plt.subplots(figsize = (10,6))\n",
    "\n",
    "\n",
    "residential_squarefeet_by_decade = buildings_and_landuse.groupby(\"cnstrct_yr_intervals\").resarea.sum().sort_index()\n",
    "commercial_squarefeet_by_decade = buildings_and_landuse.groupby(\"cnstrct_yr_intervals\").comarea.sum().sort_index()\n",
    "\n",
    "residential_squarefeet_by_decade.plot.bar(ax=ax, color = \"#E9655C\",  alpha = 0.8, width = 0.8)\n",
    "commercial_squarefeet_by_decade.plot.bar(ax=ax, bottom = residential_squarefeet_by_decade, alpha = 0.8, color = \"skyblue\", width = 0.8)\n",
    "\n",
    "ax.set_title(\"Squarefeet by Decade\", size = 22)\n",
    "ax.set_ylabel(\"Square Feet\", size = 20)\n",
    "ax.set_xlabel(\"\")\n",
    "ax.legend([\"Residential\", \"Commercial\"], fontsize = \"x-large\")\n",
    "plt.xticks(fontsize=15)\n",
    "plt.yticks(fontsize=15)\n",
    "ax.spines['top'].set_visible(False)\n",
    "ax.spines['right'].set_visible(False)"
   ]
  },
  {
   "attachments": {},
   "cell_type": "markdown",
   "metadata": {},
   "source": [
    "OBS - IKKE SIKKER PÅ NEDENSTÅENDE! "
   ]
  },
  {
   "cell_type": "code",
   "execution_count": null,
   "metadata": {},
   "outputs": [],
   "source": [
    "fig, ax  = plt.subplots(figsize = (10,5))\n",
    "plt.rcParams['legend.title_fontsize'] = 'x-large'\n",
    "\n",
    "sns.kdeplot(buildings_and_landuse_trimmed, x =\"cnstrct_yr\",\n",
    "            hue = \"borough\",\n",
    "            weights = \"bldgarea\", \n",
    "            multiple = \"stack\", \n",
    "            bw_adjust= 1.5, \n",
    "            common_norm = True, \n",
    "            linewidth = 0, \n",
    "            zorder=1, \n",
    "            ax = ax)\n",
    "\n",
    "move_legend(ax, \"upper left\", fontsize = \"x-large\")\n",
    "custom_xticks_position = custom_xticks_label # because x is numerical\n",
    "ax.set_xticks(ticks = custom_xticks_position, labels=custom_xticks_label, rotation=90)\n",
    "#ax.axvspan(xmin=1920, xmax=1930, color='#B6B9BB', alpha=0.5, zorder=0)\n",
    "ax.set_xlim([1800, 2030])\n",
    "ax.set_title(\"Square Feet by Year and Borough\", size = 22)\n",
    "\n",
    "ax.set_ylabel(\"Density of Probability\", size = 20)\n",
    "ax.set_xlabel(\"\")\n",
    "plt.xticks(fontsize=15)\n",
    "plt.yticks(fontsize=15)\n",
    "ax.spines['top'].set_visible(False)\n",
    "ax.spines['right'].set_visible(False)\n",
    "\n",
    "plt.savefig(\"Plots/square_feet_distribution_by_borough.png\", dpi = 300, bbox_inches = \"tight\")\n",
    "plt.tight_layout()\n",
    "plt.show()"
   ]
  },
  {
   "attachments": {},
   "cell_type": "markdown",
   "metadata": {},
   "source": [
    "# HeatMap"
   ]
  },
  {
   "cell_type": "code",
   "execution_count": null,
   "metadata": {},
   "outputs": [],
   "source": [
    "def get_coords(geo_object):\n",
    "    '''Extract coordinate from point object. If Multipolygon, convert to centroid point first'''\n",
    "    try:\n",
    "        return [geo_object.y, geo_object.x]\n",
    "    except AttributeError: \n",
    "        to_point_object = geo_object.centroid\n",
    "        return [to_point_object.y,to_point_object.x]"
   ]
  },
  {
   "cell_type": "code",
   "execution_count": null,
   "metadata": {},
   "outputs": [],
   "source": [
    "# Extract coordinates from building points \n",
    "buildings_and_landuse_trimmed[\"building_coords\"] = buildings_and_landuse_trimmed.building_geometry.apply(lambda point: get_coords(point))"
   ]
  },
  {
   "cell_type": "code",
   "execution_count": null,
   "metadata": {},
   "outputs": [],
   "source": [
    "# Define data range\n",
    "data_range = range(1800, 2024)\n",
    "list_of_lists_with_coordinates = [buildings_and_landuse_trimmed.query(f\"cnstrct_yr == {year}\")[\"building_coords\"].values.tolist() for year in data_range]"
   ]
  },
  {
   "cell_type": "code",
   "execution_count": null,
   "metadata": {},
   "outputs": [],
   "source": [
    "# Create NYC map \n",
    "NY_coord = [40.690610, -73.935242]\n",
    "NY_map = folium.Map(NY_coord,\n",
    "                    width=1000, \n",
    "                    height=600,\n",
    "                    tiles = 'cartodbpositron',\n",
    "                    zoom_start = 10,\n",
    "                    min_zoom = 10,\n",
    "                    max_lat = 41,\n",
    "                    min_lat = 40.3,\n",
    "                    max_lon = -73.3,\n",
    "                    min_lon = -74.5,\n",
    "                    max_bounds = True)\n",
    "\n",
    "# Heatmap \n",
    "hm = plugins.HeatMapWithTime(list_of_lists_with_coordinates,\n",
    "                             index = [f\"Year: {year}\" for year in data_range],\n",
    "                             auto_play = True,\n",
    "                             max_opacity=0.8)\n",
    "hm.add_to(NY_map)\n",
    "\n",
    "\n",
    "# add neighborhoods\n",
    "folium.GeoJson(new_york_boroughs_map[[\"geometry\", \"name\"]],\n",
    "                name = \"Bourough\",\n",
    "                tooltip=folium.GeoJsonTooltip(fields=['name'], aliases=['Bourough:']),\n",
    "                style_function =  lambda x: {\"fillColor\":\"#FF0045\" if x[\"properties\"][\"name\"]==\"Staten Island\" else \\\n",
    "                                                            \"#FFAA00\" if x[\"properties\"][\"name\"]==\"Queens\" else \\\n",
    "                                                            \"#FF0000\" if x[\"properties\"][\"name\"]==\"Brooklyn\" else \\\n",
    "                                                            \"#00BCFF\" if x[\"properties\"][\"name\"]==\"Manhattan\" else \\\n",
    "                                                            \"#B4FF00\" if x[\"properties\"][\"name\"]==\"Bronx\" else \"\",\n",
    "                                            \"color\":\"black\",\n",
    "                                            \"weight\":1}).add_to(NY_map)\n",
    "\n",
    "\n",
    "folium.Marker([40.642043, -74.141965], popup='Bayonne Bridge', icon=folium.Icon(color = \"red\", icon = \"car\", prefix = \"fa\", size = 1)).add_to(NY_map)\n",
    "\n",
    "# Show plot \n",
    "#NY_map"
   ]
  },
  {
   "attachments": {},
   "cell_type": "markdown",
   "metadata": {},
   "source": [
    "Convert and save map as HTML "
   ]
  },
  {
   "cell_type": "code",
   "execution_count": null,
   "metadata": {},
   "outputs": [],
   "source": [
    "map_html = NY_map._repr_html_()\n",
    "\n",
    "#  Creating an HTML file\n",
    "Func = open(\"Plots/construction_heatmap.html\",\"w\")\n",
    "   \n",
    "# Adding input data to the HTML file\n",
    "Func.write(map_html)\n",
    "              \n",
    "# Saving the data into the HTML file\n",
    "Func.close()"
   ]
  },
  {
   "cell_type": "markdown",
   "metadata": {},
   "source": [
    "# Population data"
   ]
  },
  {
   "attachments": {},
   "cell_type": "markdown",
   "metadata": {},
   "source": [
    "Get population data **from 1900 to 2010** from NYC Planning: https://www.nyc.gov/site/planning/planning-level/nyc-population/historical-population.page"
   ]
  },
  {
   "cell_type": "code",
   "execution_count": null,
   "metadata": {},
   "outputs": [],
   "source": [
    "population_by_borough = pd.read_excel(\"https://www.nyc.gov/assets/planning/download/office/planning-level/nyc-population/historical-population/nyc_total_pop_1900-2010.xlsx\", skiprows = 3, index_col = 0)\n",
    "population_by_borough = population_by_borough.dropna().reset_index(names = [\"decade\"])"
   ]
  },
  {
   "attachments": {},
   "cell_type": "markdown",
   "metadata": {},
   "source": [
    "Get population data **from 2020** from US Census Bureau's Decinnal Census: https://www.census.gov/data/developers/data-sets/decennial-census.html "
   ]
  },
  {
   "cell_type": "code",
   "execution_count": null,
   "metadata": {},
   "outputs": [],
   "source": [
    "# US Census parameters \n",
    "\n",
    "API_KEY = \"ffe97aa3a40b95750950c76a41624538483d4731\"\n",
    "\n",
    "NY_STATE = ','.join([\"36\"])\n",
    "\n",
    "COUNTIES = ','.join([\"047\", \"061\", \"005\", \"081\", \"085\"])\n",
    "\n",
    "COUNTY_TO_BOROUGH = {\"081\": \"Queens\",\n",
    "                     \"085\": \"Staten Island\",\n",
    "                     \"047\": \"Brooklyn\",\n",
    "                     \"005\": \"Bronx\",\n",
    "                     \"061\": \"Manhattan\"}\n",
    "\n",
    "POP_LABEL = {\"P1_001N\":\"population\"}"
   ]
  },
  {
   "cell_type": "code",
   "execution_count": null,
   "metadata": {},
   "outputs": [],
   "source": [
    "url = f\"https://api.census.gov/data/2020/dec/pl?get=NAME,P1_001N&for=county:{COUNTIES}&in=state:{NY_STATE}&key={API_KEY}\"\n",
    "resp = requests.get(url).json()\n",
    "\n",
    "NYC_pop_2020 = pd.DataFrame(resp[1:], columns = resp[0])\n",
    "\n",
    "# Clean data \n",
    "NYC_pop_2020[\"BOROUGH\"] = NYC_pop_2020.county.map(COUNTY_TO_BOROUGH)\n",
    "NYC_pop_2020 = NYC_pop_2020.rename(columns = POP_LABEL)\n",
    "NYC_pop_2020[\"population\"] = NYC_pop_2020[\"population\"].astype(float) \n",
    "NYC_pop_2020 = NYC_pop_2020.drop([\"NAME\", \"state\", \"county\"], axis = 1)\n",
    "NYC_pop_2020[\"decade\"] = 2020\n",
    "NYC_pop_2020 = NYC_pop_2020.pivot(index = \"decade\", values= \"population\", columns = \"BOROUGH\")\n",
    "NYC_pop_2020[\"New York City\"] = NYC_pop_2020.values.sum()\n",
    "NYC_pop_2020 = NYC_pop_2020.reset_index()"
   ]
  },
  {
   "attachments": {},
   "cell_type": "markdown",
   "metadata": {},
   "source": [
    "Concatenate data"
   ]
  },
  {
   "cell_type": "code",
   "execution_count": null,
   "metadata": {},
   "outputs": [],
   "source": [
    "population_by_borough = pd.concat([population_by_borough,NYC_pop_2020]).set_index(\"decade\")"
   ]
  },
  {
   "attachments": {},
   "cell_type": "markdown",
   "metadata": {},
   "source": [
    "Get population estimates from NYC Planning (Manual extraction from PDF): https://www.nyc.gov/assets/planning/download/pdf/planning-level/nyc-population/projections_report_2010_2040.pdf\n",
    "\n",
    "Note: the projections were made in 2013. "
   ]
  },
  {
   "cell_type": "code",
   "execution_count": null,
   "metadata": {},
   "outputs": [],
   "source": [
    "NYC_pop_projection = {\"New York City\":{2030:8_821_027,\n",
    "                                       2040:9_025_145},\n",
    "                      \"Bronx\":{2030:1_518_998, \n",
    "                               2040:1_579_245},\n",
    "                      \"Brooklyn\":{2030:2_754_009,\n",
    "                                  2040:2_840_525},\n",
    "                      \"Manhattan\":{2030:1_676_720,\n",
    "                                   2040:1_691_617},\n",
    "                      \"Queens\":{2030:2_373_551,\n",
    "                                2040:2_412_649},\n",
    "                      \"Staten Island\":{2030:497_749,\n",
    "                                       2040:501_109}}\n",
    "\n",
    "NYC_pop_projection = pd.DataFrame(NYC_pop_projection)\n",
    "\n",
    "# Concat 2020 data to make the lines in the plot have the same offset \n",
    "NYC_pop_2020 = population_by_borough.loc[2020:]\n",
    "NYC_pop_projection = pd.concat([NYC_pop_2020, NYC_pop_projection])"
   ]
  },
  {
   "attachments": {},
   "cell_type": "markdown",
   "metadata": {},
   "source": [
    "Plot population by borough including population projection"
   ]
  },
  {
   "cell_type": "code",
   "execution_count": null,
   "metadata": {},
   "outputs": [],
   "source": [
    "fig, ax = plt.subplots(figsize = (10,6))\n",
    "\n",
    "colors = [\"#000000\", \"#2BAAFF\", \"#FFAA00\", \"#FF0000\", \"#A15C03\", \"#18B406\"]\n",
    "\n",
    "population_by_borough.plot(color= colors, ax=ax, legend = False, alpha = 0.7)\n",
    "NYC_pop_projection.plot(color = colors, style=\"--\", legend = False, ax=ax, alpha = 0.7)\n",
    "\n",
    "ax.set_title(\"Population by Borough\", size = 20)\n",
    "ax.set_ylabel(\"Population\", size = 18)\n",
    "ax.set_xlabel(\"Decade\", size = 15)\n",
    "plt.xticks(list(population_by_borough.index) + [2030, 2040], fontsize=15)\n",
    "plt.yticks(fontsize=15)\n",
    "ax.spines['top'].set_visible(False)\n",
    "ax.spines['right'].set_visible(False)\n",
    "ax.axvline(2020, linestyle = \"--\", linewidth = 1, c=\"gray\", alpha = 0.5)\n",
    "\n",
    "# Change y-ticks\n",
    "ax.set_yticklabels(['{:,}'.format(int(tick/1000000)) + ' mil.' for tick in ax.get_yticks()])\n",
    "\n",
    "# Annotate\n",
    "ax.text(2040, NYC_pop_projection.loc[2040,'New York City'], 'New York\\n     City', size=12, color=\"#000000\")\n",
    "ax.text(2041, NYC_pop_projection.loc[2040,\"Bronx\"]-150_000, 'Bronx', size=12, color=\"#2BAAFF\")\n",
    "ax.text(2041, NYC_pop_projection.loc[2040,\"Brooklyn\"], 'Brooklyn', size=12, color=\"#FFAA00\")\n",
    "ax.text(2041, NYC_pop_projection.loc[2040,\"Manhattan\"]+150_000, 'Manhattan', size=12, color=\"#FF0000\")\n",
    "ax.text(2041, NYC_pop_projection.loc[2040,\"Queens\"], 'Queens', size=12, color=\"#A15C03\")\n",
    "ax.text(2041, NYC_pop_projection.loc[2040,\"Staten Island\"]-200_000, 'Staten\\nIsland', size=12, color=\"#18B406\")\n",
    "# Text and Arrow for population projection \n",
    "ax.text(2023, 5_000_000, 'Population\\nprojection', size=12, color='gray')\n",
    "ax.annotate(\"\", xy=(2038, 4_700_000), xytext=(2022.5, 4_700_000),\n",
    "            arrowprops=dict(arrowstyle=\"->\", color =\"gray\", alpha=0.7))\n",
    "\n",
    "plt.savefig(\"Plots/population_by_borough.png\", dpi = 300, bbox_inches = \"tight\")\n",
    "\n",
    "plt.tight_layout()\n",
    "plt.show()"
   ]
  },
  {
   "attachments": {},
   "cell_type": "markdown",
   "metadata": {},
   "source": [
    "## Foreign Born Population \n",
    "\n",
    "Also from NYC's historical planning: https://www.nyc.gov/site/planning/planning-level/nyc-population/historical-population.page"
   ]
  },
  {
   "cell_type": "code",
   "execution_count": null,
   "metadata": {},
   "outputs": [],
   "source": [
    "foreign_born_pop = pd.read_excel(\"https://www.nyc.gov/assets/planning/download/office/planning-level/nyc-population/historical-population/nyc_fb_pop_1900-2010.xlsx\", skiprows = 3, index_col = 0)\n",
    "foreign_born_pop = foreign_born_pop.dropna().reset_index(names = [\"decade\"])\n",
    "foreign_born_pop.decade = foreign_born_pop.decade.apply(lambda x: str(x).replace(\"*\",\"\")).astype(int)\n",
    "foreign_born_pop = foreign_born_pop.set_index(\"decade\")"
   ]
  },
  {
   "cell_type": "code",
   "execution_count": null,
   "metadata": {},
   "outputs": [],
   "source": [
    "fig, ax = plt.subplots(figsize = (10,6))\n",
    "\n",
    "colors = [\"#000000\", \"#2BAAFF\", \"#FFAA00\", \"#FF0000\", \"#A15C03\", \"#18B406\"]\n",
    "\n",
    "foreign_born_pop.plot(color= colors, ax=ax, legend = False, alpha = 0.7)\n",
    "\n",
    "ax.set_title(\"Foreign Born Population by Borough\", size = 20)\n",
    "ax.set_ylabel(\"Population\", size = 18)\n",
    "ax.set_xlabel(\"Decade\", size = 15)\n",
    "plt.xticks(foreign_born_pop.index, fontsize=15)\n",
    "plt.yticks(fontsize=15)\n",
    "ax.spines['top'].set_visible(False)\n",
    "ax.spines['right'].set_visible(False)\n",
    "\n",
    "# Change y-ticks\n",
    "ax.set_yticklabels(['%.1f' % float(tick/1000000)+ ' mil.' for tick in ax.get_yticks()])\n",
    "\n",
    "# Annotate\n",
    "ax.text(2011, foreign_born_pop.loc[2010,'New York City'], 'New York\\n     City', size=12, color=colors[0])\n",
    "ax.text(2011, foreign_born_pop.loc[2010,\"Bronx\"]+50_000, 'Bronx', size=12, color=colors[1])\n",
    "ax.text(2011, foreign_born_pop.loc[2010,\"Brooklyn\"]-30_000, 'Brooklyn', size=12, color=colors[2])\n",
    "ax.text(2011, foreign_born_pop.loc[2010,\"Manhattan\"]-50_000, 'Manhattan', size=12, color=colors[3])\n",
    "ax.text(2011, foreign_born_pop.loc[2010,\"Queens\"], 'Queens', size=12, color=colors[4])\n",
    "ax.text(2011, foreign_born_pop.loc[2010,\"Staten Island\"]-50_000, 'Staten\\nIsland', size=12, color=colors[5])\n",
    "\n",
    "plt.savefig(\"Plots/foreign_population_by_borough.png\", dpi = 300, bbox_inches = \"tight\")\n",
    "\n",
    "plt.tight_layout()\n",
    "plt.show()"
   ]
  },
  {
   "attachments": {},
   "cell_type": "markdown",
   "metadata": {},
   "source": [
    "## Share of foreign-born residents by decade"
   ]
  },
  {
   "cell_type": "code",
   "execution_count": null,
   "metadata": {},
   "outputs": [],
   "source": [
    "share_of_foreign_born_by_decade = foreign_born_pop / population_by_borough.loc[1900:2010] * 100\n",
    "share_of_foreign_born_by_decade = share_of_foreign_born_by_decade.drop(\"New York City\", axis =1 )"
   ]
  },
  {
   "cell_type": "code",
   "execution_count": null,
   "metadata": {},
   "outputs": [],
   "source": [
    "fig, ax = plt.subplots(figsize = (10,6))\n",
    "\n",
    "colors = [\"#2BAAFF\", \"#FFAA00\", \"#FF0000\", \"#A15C03\", \"#18B406\"]\n",
    "\n",
    "share_of_foreign_born_by_decade.plot(color= colors, ax=ax, legend = False, alpha = 0.7)\n",
    "\n",
    "\n",
    "ax.set_title(\"Share of Foreign Born Residents by Borough\", size = 20)\n",
    "ax.set_ylabel(\"Share\", size = 18)\n",
    "ax.set_xlabel(\"Decade\", size = 15)\n",
    "plt.xticks(share_of_foreign_born_by_decade.index, fontsize=15)\n",
    "plt.yticks(fontsize=15)\n",
    "ax.spines['top'].set_visible(False)\n",
    "ax.spines['right'].set_visible(False)\n",
    "ax.set_yticklabels(['%.0f' % tick + '%' for tick in ax.get_yticks()])\n",
    "\n",
    "# Annotate\n",
    "ax.text(2011, share_of_foreign_born_by_decade.loc[2010,\"Bronx\"], 'Bronx', size=12, color=colors[1-1])\n",
    "ax.text(2011, share_of_foreign_born_by_decade.loc[2010,\"Brooklyn\"], 'Brooklyn', size=12, color=colors[2-1])\n",
    "ax.text(2011, share_of_foreign_born_by_decade.loc[2010,\"Manhattan\"], 'Manhattan', size=12, color=colors[3-1])\n",
    "ax.text(2011, share_of_foreign_born_by_decade.loc[2010,\"Queens\"], 'Queens', size=12, color=colors[4-1])\n",
    "ax.text(2011, share_of_foreign_born_by_decade.loc[2010,\"Staten Island\"], 'Staten\\nIsland', size=12, color=colors[5-1])\n",
    "\n",
    "plt.savefig(\"Plots/share_of_foreign_population_by_borough.png\", dpi = 300, bbox_inches = \"tight\")\n",
    "\n",
    "plt.tight_layout()\n",
    "plt.show()"
   ]
  },
  {
   "attachments": {},
   "cell_type": "markdown",
   "metadata": {},
   "source": [
    "### Districts code\n",
    "\n",
    "101-112: Manhattan Community Districts\n",
    "164: Central Park (JIA)\n",
    "201-212: Bronx Community District\n",
    "226: Van Cortlandt Park (JIA)\n",
    "227: Bronx Park (JIA)\n",
    "228: Pelham Bay Park (JIA)\n",
    "301-318: Brooklyn Community Districts\n",
    "355: Prospect Park (JIA)\n",
    "356: Brooklyn Gateway National Recreation Area (JIA)\n",
    "401-414: Queens Community Districts\n",
    "480: LaGuardia Airport (JIA)\n",
    "481: Flushing Meadow / Corona Park (JIA)\n",
    "482: Forest Park (JIA)\n",
    "483: JFK International Airport (JIA)\n",
    "484: Queens Gateway National Recreation Area (JIA)\n",
    "501-503: Staten Island Community Districts\n",
    "595: Staten Island Gateway National Recreation Area (JIA)\n",
    "\n",
    "\n",
    "GeoJSON fil til districter: https://data.cityofnewyork.us/City-Government/Community-Districts/yfnk-k7r4\n"
   ]
  },
  {
   "attachments": {},
   "cell_type": "markdown",
   "metadata": {},
   "source": [
    "# US Census\n",
    "\n",
    "Målet er noget hen mod det her (selvom det helt sikkert at urealistisk at komme i nærheden af): https://www.nytimes.com/interactive/2015/07/08/us/census-race-map.html\n",
    "\n",
    "Variable documentation for this particular data: https://www.census.gov/data/developers/data-sets/popest-popproj/popest/popest-vars.Vintage_2019.html#list-tab-794389051\n",
    "\n",
    "See all available APIs at: https://www.census.gov/data/developers/data-sets.html"
   ]
  },
  {
   "cell_type": "markdown",
   "metadata": {},
   "source": [
    "Her er der data på tract-niveau: \n",
    "\n",
    "https://mtgis-portal.geo.census.gov/arcgis/apps/MapSeries/index.html?appid=2566121a73de463995ed2b2fd7ff6eb7"
   ]
  },
  {
   "cell_type": "code",
   "execution_count": null,
   "metadata": {},
   "outputs": [],
   "source": [
    "## ---- Map Labels ----- ## \n",
    "SEX_LABELS = {\"0\": \"Both Sexes\",\n",
    "              \"1\": \"Male\",\n",
    "              \"2\": \"Female\"}\n",
    "\n",
    "HISP_LABELS = {\"0\": \"Both Hispanic and Non-Hespanic Origins\",\n",
    "               \"1\": \"Non-Hispanic\",\n",
    "               \"2\": \"Hispanic\"}\n",
    "\n",
    "RACE_LABELS = {\"0\": \"All races\", # Har tilføjet race variablen\n",
    "               \"1\": \"White alone\",\n",
    "               \"2\": \"Black alone\",\n",
    "               \"3\": \"American Indian and Alaska Native alone\",\n",
    "               \"5\": \"Asian alone\",\n",
    "               \"6\": \"Two or more races\",\n",
    "               \"7\": \"White alone or in combination\",\n",
    "               \"8\": \"Black alone or in combination\",\n",
    "               \"9\": \"American Indian and Alaska Native alone or in combination\", \n",
    "               \"10\": \"Asian alone or in combination\",\n",
    "               \"11\": \"Native Hawaiian and Other Pacific Islander alone or in combination\"}"
   ]
  },
  {
   "attachments": {},
   "cell_type": "markdown",
   "metadata": {},
   "source": [
    "### Population Estimate"
   ]
  },
  {
   "cell_type": "code",
   "execution_count": null,
   "metadata": {},
   "outputs": [],
   "source": [
    "url = f\"https://api.census.gov/data/2019/pep/charagegroups?get=NAME,POP,DATE_DESC&DATE_CODE=3,4,5,6,7,8,9,10,11,12&SEX=1,2&RACE=0,1,2,3,4,5,6,7,8,9,10,11&HISP=1,2&for=county:{COUNTIES}&in=state:{NY_STATE}&key={API_KEY}\"\n",
    "resp = requests.get(url).json()\n",
    "df = pd.DataFrame(resp[1:], columns = resp[0])\n",
    "\n",
    "\n",
    "# Clean data \n",
    "df[\"DATE\"] = df.DATE_DESC.apply(lambda label: label.split(\" \")[0])\n",
    "df[\"YEAR\"] = df.DATE.apply(lambda DATE: DATE.split(\"/\")[-1])\n",
    "df[\"SEX\"] = df.SEX.map(SEX_LABELS)\n",
    "df[\"RACE\"] = df.RACE.map(RACE_LABELS)\n",
    "df[\"HISP\"] = df.HISP.map(HISP_LABELS)\n",
    "df[\"BOROUGH\"] = df.county.map(COUNTY_TO_BOROUGH)\n",
    "\n",
    "# Drop excess columns \n",
    "df = df.drop(columns = [\"DATE_CODE\", \"DATE_DESC\", \"state\"])"
   ]
  },
  {
   "attachments": {},
   "cell_type": "markdown",
   "metadata": {},
   "source": [
    "## American Community Survey - 5 year estimates.\n",
    "\n",
    "For dokumentation, og snak om hvornår man skal bruge 1 vs 5 års estimaterne: https://www.census.gov/programs-surveys/acs/guidance/estimates.html\n",
    "\n",
    "From: https://www.census.gov/data/developers/data-sets/acs-5year.html\n",
    "\n",
    "Data on tract-level:\n",
    "\n",
    "See variables at: https://api.census.gov/data/2021/acs/acs5/profile/variables.html"
   ]
  },
  {
   "cell_type": "code",
   "execution_count": null,
   "metadata": {},
   "outputs": [],
   "source": [
    "COLUMN_LABELS = {\"DP05_0001E\": \"total_pop\",\n",
    "                 \"DP05_0003PE\": \"pct_female\",\n",
    "                 \"DP05_0002PE\": \"pct_male\",\n",
    "                 \"DP03_0002PE\": \"pct_employed_over_16\",\n",
    "                 \"DP03_0052PE\": \"pct_below_10000_income\", # der er mange inkomstgrupperinger - Overvej om de skal bruges \n",
    "                 \"DP03_0062E\": \"median_household_income\",\n",
    "                 \"DP03_0063E\" : \"also_median_household_income?\",\n",
    "                 \"DP05_0037PE\": \"pct_white_one_race\",\n",
    "                 \"DP05_0038PE\": \"pct_black_one_race\",\n",
    "                 \"DP05_0044PE\": \"pct_asian_one_race\",\n",
    "                 \"DP05_0071PE\": \"pct_hispanic_or_latino_any\",\n",
    "                 \"DP05_0086E\": \"total_housing_units\"}\n",
    "\n",
    "COUNTY_TO_BOROUGH = {\"081\": \"Queens\",\n",
    "                     \"085\": \"Staten Island\",\n",
    "                     \"047\": \"Brooklyn\",\n",
    "                     \"005\": \"Bronx\",\n",
    "                     \"061\": \"Manhattan\"}\n",
    "\n",
    "\n",
    "SEX_VAR = [\"DP05_0003PE\",\"DP05_0002PE\"]\n",
    "POP_VAR = [\"DP05_0001E\"]\n",
    "LABOUR_VAR = [\"DP03_0002PE\"]\n",
    "INCOME_VAR = [\"DP03_0052PE\", \"DP03_0062E\",\"DP03_0063E\"]\n",
    "RACE_VAR = [\"DP05_0037PE\", \"DP05_0038PE\", \"DP05_0044PE\", \"DP05_0071PE\"]\n",
    "HOUSING_VAR = [\"DP05_0086E\"]\n",
    "\n",
    "QUERY = \",\".join(SEX_VAR+POP_VAR+LABOUR_VAR+INCOME_VAR+RACE_VAR+HOUSING_VAR)"
   ]
  },
  {
   "cell_type": "code",
   "execution_count": null,
   "metadata": {},
   "outputs": [],
   "source": [
    "url = f\"https://api.census.gov/data/2021/acs/acs5/profile?get=NAME,{QUERY}&for=tract:*&in=county:{COUNTIES}&in=state:{NY_STATE}&key={API_KEY}\"\n",
    "resp = requests.get(url).json()\n",
    "us_census_df = pd.DataFrame(resp[1:], columns = resp[0])\n",
    "\n",
    "# Clean response \n",
    "us_census_df = us_census_df.rename(columns = COLUMN_LABELS)\n",
    "us_census_df[\"BOROUGH\"] = us_census_df.county.map(COUNTY_TO_BOROUGH)\n",
    "\n",
    "us_census_df = us_census_df.query(\"tract!='990100'\") # Remove \"errorneus\" tracts\n",
    "us_census_df[list(COLUMN_LABELS.values())] = us_census_df[list(COLUMN_LABELS.values())].astype(float) # Convert to float\n",
    "us_census_df = us_census_df.replace(-666666666, np.nan) # Convert nan values \n",
    "\n",
    "### I areas where noone lives (based on the \"total population\") replace Nan-value in the other columns with 0. \n",
    "for col in list(COLUMN_LABELS.values()):\n",
    "    us_census_df[col] = np.where((us_census_df[\"total_pop\"] == 0 & pd.isna(us_census_df[col])),\n",
    "                                 0,\n",
    "                                 us_census_df[col])\n",
    "\n",
    "us_census_df.head(2)"
   ]
  },
  {
   "cell_type": "code",
   "execution_count": null,
   "metadata": {},
   "outputs": [],
   "source": [
    "print(f\"No missing on 'Total Population?': {us_census_df.total_pop.isna().sum() == 0}\")\n",
    "us_census_df.total_pop.sum() # antal personer "
   ]
  },
  {
   "attachments": {},
   "cell_type": "markdown",
   "metadata": {},
   "source": [
    "## Census tracts - Geodata\n",
    "\n",
    "From: https://www.nyc.gov/site/planning/data-maps/open-data/census-download-metadata.page"
   ]
  },
  {
   "cell_type": "code",
   "execution_count": null,
   "metadata": {},
   "outputs": [],
   "source": [
    "census_tracts_geo = gpd.read_file(\"https://services5.arcgis.com/GfwWNkhOj9bNBqoJ/arcgis/rest/services/NYC_Census_Tracts_for_2020_US_Census/FeatureServer/0/query?where=1=1&outFields=*&outSR=4326&f=pgeojson\")"
   ]
  },
  {
   "cell_type": "code",
   "execution_count": null,
   "metadata": {},
   "outputs": [],
   "source": [
    "## Match US Census data tract IDs to the census tract geo data IDs\n",
    "US_CENSUS_KEY = census_tracts_geo[[\"BoroName\", \"BoroCode\"]].drop_duplicates().set_index(\"BoroName\").to_dict()[\"BoroCode\"]\n",
    "us_census_df[\"borough_id\"] = us_census_df.BOROUGH.map(US_CENSUS_KEY).astype(\"str\")\n",
    "us_census_df[\"tract_id\"] = us_census_df[\"borough_id\"] + us_census_df[\"tract\"]\n",
    "\n",
    "## Subset columns and rename \n",
    "census_tracts_geo = census_tracts_geo[[\"NTAName\", \"CDTANAME\", \"BoroCT2020\", \"geometry\"]].rename(columns={\"BoroCT2020\":\"tract_id\"}).copy()"
   ]
  },
  {
   "cell_type": "markdown",
   "metadata": {},
   "source": [
    "Merge US Census Demographic Data with Geographical Census Data"
   ]
  },
  {
   "cell_type": "code",
   "execution_count": null,
   "metadata": {},
   "outputs": [],
   "source": [
    "census_tract_data = pd.merge(census_tracts_geo, us_census_df, on = \"tract_id\", how = \"outer\", indicator = True)"
   ]
  },
  {
   "cell_type": "markdown",
   "metadata": {},
   "source": [
    "Sanity check on merge"
   ]
  },
  {
   "cell_type": "code",
   "execution_count": null,
   "metadata": {},
   "outputs": [],
   "source": [
    "census_tract_data._merge.value_counts() # All tracts with demographic data are in the merge "
   ]
  },
  {
   "cell_type": "code",
   "execution_count": null,
   "metadata": {},
   "outputs": [],
   "source": [
    "census_tract_data.query(\"_merge == 'left_only'\")"
   ]
  },
  {
   "attachments": {},
   "cell_type": "markdown",
   "metadata": {},
   "source": [
    "`Hoffman & Swinburne Islands` are two small and uninhabited island off the coast of Staten Island. Thus, filtering these out will not affect the remaining demographic analysis.  "
   ]
  },
  {
   "attachments": {},
   "cell_type": "markdown",
   "metadata": {},
   "source": [
    "Keep only observations in both dataset "
   ]
  },
  {
   "cell_type": "code",
   "execution_count": null,
   "metadata": {},
   "outputs": [],
   "source": [
    "census_tract_data = census_tract_data.query(\"_merge == 'both'\")"
   ]
  },
  {
   "cell_type": "code",
   "execution_count": null,
   "metadata": {},
   "outputs": [],
   "source": [
    "fig, ax = plt.subplots(2,2, figsize = (10,10))\n",
    "\n",
    "# Create a choropleth map\n",
    "census_tract_data.plot(column='pct_white_one_race', cmap='Reds', edgecolor = \"grey\", linewidth=0.0, ax = ax[0][0])\n",
    "new_york_boroughs_map.plot(facecolor = \"none\", edgecolor = \"black\", linewidth = 0.1, ax = ax[0][0])\n",
    "ax[0][0].set_axis_off()\n",
    "\n",
    "# Add a colorbar\n",
    "cbar = ax[0][0].get_figure().colorbar(ax[0][0].collections[0], shrink = 0.5, location='bottom', pad = 0)\n",
    "cbar.set_label('Pct. White Residents', labelpad=0)\n",
    "\n",
    "census_tract_data.plot(column='pct_black_one_race', cmap='Reds', ax = ax[0][1])\n",
    "new_york_boroughs_map.plot(facecolor = \"none\", edgecolor = \"black\", linewidth = 0.1, ax = ax[0][1])\n",
    "ax[0][1].set_axis_off()\n",
    "# Add a colorbar\n",
    "cbar = ax[0][1].get_figure().colorbar(ax[0][1].collections[0], shrink = 0.5, location='bottom', pad = 0)\n",
    "cbar.set_label('Pct. Black Residents', labelpad = 0)\n",
    "\n",
    "census_tract_data.plot(column='pct_asian_one_race', cmap='Reds', ax = ax[1][0])\n",
    "new_york_boroughs_map.plot(facecolor = \"none\", edgecolor = \"black\", linewidth = 0.1, ax = ax[1][0])\n",
    "ax[1][0].set_axis_off()\n",
    "# Add a colorbar\n",
    "cbar = ax[1][0].get_figure().colorbar(ax[1][0].collections[0], shrink = 0.5, location='bottom', pad = 0)\n",
    "cbar.set_label('Pct. Asian Residents', labelpad = 0)\n",
    "\n",
    "census_tract_data.plot(column='pct_hispanic_or_latino_any', cmap='Reds', ax = ax[1][1])\n",
    "new_york_boroughs_map.plot(facecolor = \"none\", edgecolor = \"black\", linewidth = 0.1, ax = ax[1][1])\n",
    "ax[1][1].set_axis_off()\n",
    "# Add a colorbar\n",
    "cbar = ax[1][1].get_figure().colorbar(ax[1][1].collections[0], shrink = 0.5, location='bottom', pad = 0)\n",
    "cbar.set_label('Pct. Hispanic/Latino Residents', labelpad = 0)\n",
    "\n",
    "# Save \n",
    "plt.savefig(\"Plots/race_dist_by_tract.png\", dpi = 300, bbox_inches = \"tight\")\n",
    "\n",
    "# Show the map\n",
    "plt.tight_layout()\n",
    "plt.show()"
   ]
  },
  {
   "attachments": {},
   "cell_type": "markdown",
   "metadata": {},
   "source": [
    "### Choropleth Map of Demographic Statistics on Census Tract Level"
   ]
  },
  {
   "cell_type": "code",
   "execution_count": null,
   "metadata": {},
   "outputs": [],
   "source": [
    "n_colors = 100\n",
    "alpha = 0.7\n",
    "\n",
    "GEOMAP_CONTINUOUS_COLORS = mcolors.LinearSegmentedColormap.from_list(\n",
    "    \"Custom\", [\"#487C4F\", \"#FFF6E9\", \"#FD603E\"], N=n_colors\n",
    ")\n",
    "\n",
    "GEOMAP_CMAP = [f\"rgba{GEOMAP_CONTINUOUS_COLORS(i)[:3]+tuple([alpha])}\" for i in range(n_colors)]"
   ]
  },
  {
   "attachments": {},
   "cell_type": "markdown",
   "metadata": {},
   "source": [
    "TO-DO: \n",
    "- Includer Borough i hovertext. "
   ]
  },
  {
   "cell_type": "code",
   "execution_count": null,
   "metadata": {},
   "outputs": [],
   "source": [
    "label_dict = {'pct_white_one_race':\"Pct. White Residents\",\n",
    "              'pct_black_one_race':\"Pct. Black Residents\",\n",
    "              'pct_asian_one_race':\"Pct. Asian Residents\",\n",
    "              'pct_hispanic_or_latino_any':\"Pct. Hispanic & Latino Residents\",\n",
    "              'total_pop':\"Total Population\"}\n",
    "\n",
    "# we need to add this to select which trace \n",
    "# is going to be visible\n",
    "visible = np.array(list(label_dict.keys()))\n",
    "\n",
    "# define traces and buttons at once\n",
    "traces = []\n",
    "buttons = []\n",
    "for col, label in label_dict.items():\n",
    "\n",
    "    traces.append(go.Choroplethmapbox(geojson=json.loads(census_tract_data.to_json()),\n",
    "                                    z = census_tract_data[col],\n",
    "                                    locations = census_tract_data.index,\n",
    "                                    colorscale=\"Reds\",\n",
    "                                    #colorbar_title = label,\n",
    "                                    colorbar=dict(\n",
    "                                        title=label,\n",
    "                                        titleside='top',\n",
    "                                        len = 0.8,\n",
    "                                        orientation = \"h\",\n",
    "                                        y = -0.17,\n",
    "                                        tickfont = dict(size=15) # set the position of the colorbar title\n",
    "                                    ),\n",
    "                                    visible= True if col==list(label_dict.keys())[0] else False,\n",
    "                                    hovertemplate= f\"\"\"{label}: \"\"\" +  \"\"\"%{z}%<br>Neighborhood: %{text}<extra></extra>\"\"\",\n",
    "                                    text = census_tract_data.NTAName))\n",
    "\n",
    "    buttons.append(dict(label=label,\n",
    "                        method=\"update\",\n",
    "                        args=[{\"visible\":list(visible==col)},\n",
    "                              {\"title\":\"\"}]))\n",
    "\n",
    "updatemenus = [{\"active\":0,\n",
    "                \"buttons\":buttons,\n",
    "                \"direction\":'down',\n",
    "                \"showactive\":True,\n",
    "                \"x\":0.02,\n",
    "                \"y\":0.98,\n",
    "                \"xanchor\":\"left\",\n",
    "                \"yanchor\":\"top\"}]\n",
    "\n",
    "\n",
    "# Show figure\n",
    "fig = go.Figure(data=traces,\n",
    "                layout=dict(updatemenus=updatemenus))\n",
    "\n",
    "fig.layout['title']['text'] = \"\"\n",
    "                  \n",
    "\n",
    "\n",
    "fig.update_layout(mapbox_style=\"carto-positron\",\n",
    "                    height = 600,\n",
    "                    width = 1000,\n",
    "                    autosize=True,\n",
    "                    paper_bgcolor= \"#FFF6E9\",\n",
    "                    margin={\"r\":0,\"t\":0,\"l\":0,\"b\":0},\n",
    "                    mapbox=dict(center={\"lat\": 40.690610, \"lon\": -73.935242},zoom=9),\n",
    "                    font_family = \"Garamond\",\n",
    "                    font_size = 18\n",
    "                    )\n",
    "\n",
    "fig.show()"
   ]
  },
  {
   "cell_type": "code",
   "execution_count": null,
   "metadata": {},
   "outputs": [],
   "source": [
    "fig.write_html(\"Plots/interactive_race_distribution_NYC_tracts.html\")"
   ]
  },
  {
   "cell_type": "markdown",
   "metadata": {},
   "source": [
    "# OLD STUFF"
   ]
  },
  {
   "cell_type": "markdown",
   "metadata": {},
   "source": [
    "## Kig måske også på:\n",
    "\n",
    "Race: https://www.census.gov/library/visualizations/2021/geo/demographicmapviewer.html eller https://www.census.gov/topics/population/race/data/tables.html\n",
    "\n",
    "\n",
    "Economic Census: https://www.census.gov/data/developers/data-sets/economic-census.html\n",
    "\n",
    "\n",
    "Language Statistics: https://www.census.gov/data/developers/data-sets/language-stats.html\n",
    "\n",
    "\n",
    "Migration flows: https://www.census.gov/data/developers/data-sets/acs-migration-flows.html\n"
   ]
  },
  {
   "attachments": {},
   "cell_type": "markdown",
   "metadata": {},
   "source": [
    "Pis'en rundt med overpass api'en"
   ]
  },
  {
   "cell_type": "code",
   "execution_count": null,
   "metadata": {},
   "outputs": [],
   "source": [
    "import requests\n",
    "\n",
    "# Define the Overpass query to retrieve all bridges in New York City\n",
    "overpass_url = \"https://overpass-api.de/api/interpreter\"\n",
    "query = \"\"\"\n",
    "[out:json]\n",
    "[timeout:25]\n",
    ";\n",
    "(\n",
    "  node\n",
    "    [\"tunnel\"=\"yes\"]\n",
    "    (40.486387403432,-74.295043945312,40.821863767675,-73.811988830566);\n",
    "  way\n",
    "    [\"tunnel\"=\"yes\"]\n",
    "    (40.486387403432,-74.295043945312,40.821863767675,-73.811988830566);\n",
    "  relation\n",
    "    [\"tunnel\"=\"yes\"]\n",
    "    (40.486387403432,-74.295043945312,40.821863767675,-73.811988830566);\n",
    ");\n",
    "out;\n",
    ">;\n",
    "out skel qt;\n",
    "\"\"\"\n",
    "\n",
    "# Send the HTTP GET request to the Overpass API endpoint and parse the JSON response\n",
    "response = requests.get(overpass_url, params={'data': query})\n",
    "data = response.json()"
   ]
  },
  {
   "cell_type": "code",
   "execution_count": null,
   "metadata": {},
   "outputs": [],
   "source": [
    "relevant_data = [tunnel for tunnel in data[\"elements\"] if \"tags\" in tunnel.keys()]\n",
    "relevant_data = [tunnel for tunnel in relevant_data if \"name\" in tunnel[\"tags\"].keys()]"
   ]
  },
  {
   "cell_type": "code",
   "execution_count": null,
   "metadata": {},
   "outputs": [],
   "source": [
    "tunnel_data = pd.DataFrame(relevant_data)\n",
    "tunnel_data[\"name\"] = tunnel_data.tags.apply(lambda x: x[\"name\"])"
   ]
  },
  {
   "cell_type": "code",
   "execution_count": null,
   "metadata": {},
   "outputs": [],
   "source": [
    "tunnel_data"
   ]
  },
  {
   "cell_type": "code",
   "execution_count": null,
   "metadata": {},
   "outputs": [],
   "source": [
    "# Define the Overpass query to retrieve all bridges in New York City\n",
    "overpass_url = \"https://overpass-api.de/api/interpreter\"\n",
    "query = \"\"\"\n",
    "[out:json]\n",
    "[timeout:25]\n",
    ";\n",
    "(\n",
    "  node\n",
    "    [\"man_made\"=\"bridge\"]\n",
    "    [\"layer\"]\n",
    "    (40.412450437545,-74.338989257812,41.082456637455,-73.37287902832);\n",
    "  way\n",
    "    [\"man_made\"=\"bridge\"]\n",
    "    [\"layer\"]\n",
    "    (40.412450437545,-74.338989257812,41.082456637455,-73.37287902832);\n",
    "  relation\n",
    "    [\"man_made\"=\"bridge\"]\n",
    "    [\"layer\"]\n",
    "    (40.412450437545,-74.338989257812,41.082456637455,-73.37287902832);\n",
    ");\n",
    "out;\n",
    ">;\n",
    "out skel qt;\n",
    "\"\"\"\n",
    "\n",
    "# Send the HTTP GET request to the Overpass API endpoint and parse the JSON response\n",
    "response = requests.get(overpass_url, params={'data': query})\n",
    "data = response.json()"
   ]
  },
  {
   "cell_type": "code",
   "execution_count": null,
   "metadata": {},
   "outputs": [],
   "source": [
    "## ----------- Left Overs ----------- ## \n",
    "# # Reverse geocode --> Join Point on Multipolygons \n",
    "# building_footprints[\"building_geometry\"] = building_footprints.geometry.copy() # distinquish between geometry columns \n",
    "# buildings_in_bouroughs = gpd.sjoin(new_york_boroughs_map, building_footprints).reset_index(drop = True) # geo-merge\n",
    "# buildings_in_bouroughs = buildings_in_bouroughs.renaame(columns = {\"name_left\":\"Bourough\"}) # Rename\n",
    "\n",
    "\n",
    "\n",
    "# fig, ax = plt.subplots(2, 2, figsize = (8,8))\n",
    "\n",
    "# # Early plot \n",
    "# new_york_boroughs_map.plot(color = \"white\", edgecolor = \"black\", alpha = 0.5, ax = ax[0][0])\n",
    "# buildings_and_landuse.query(\"cnstrct_yr < 1900\").plot(markersize = 1, color = \"#E9655C\", alpha = 0.1, ax = ax[0][0])\n",
    "# ax[0][0].set_title(\"Construction before 1900\", size = 20)\n",
    "# ax[0][0].set_axis_off()\n",
    "\n",
    "# # Middle plot \n",
    "# new_york_boroughs_map.plot(color = \"white\", edgecolor = \"black\", alpha = 0.5, ax = ax[0][1])\n",
    "# buildings_and_landuse.query(\"cnstrct_yr >= 1900 & cnstrct_yr < 1940\").plot(markersize = 1, color = \"#E9655C\", alpha = 0.1, ax = ax[0][1])\n",
    "# ax[0][1].set_title(\"Construction between 1900 and 1940\", size = 20)\n",
    "# ax[0][1].set_axis_off()\n",
    "\n",
    "# # Early plot \n",
    "# new_york_boroughs_map.plot(color = \"white\", edgecolor = \"black\", alpha = 0.5, ax = ax[1][0])\n",
    "# buildings_and_landuse.query(\"cnstrct_yr >= 1940 & cnstrct_yr < 1980\").plot(markersize = 1, color = \"#E9655C\", alpha = 0.1, ax = ax[1][0])\n",
    "# ax[1][0].set_title(\"Construction between 1940 and 1980\", size = 20)\n",
    "# ax[1][0].set_axis_off()\n",
    "\n",
    "# # Middle plot \n",
    "# new_york_boroughs_map.plot(color = \"white\", edgecolor = \"black\", alpha = 0.5, ax = ax[1][1])\n",
    "# buildings_and_landuse.query(\"cnstrct_yr >= 1980\").plot(markersize = 1, color = \"#E9655C\", alpha = 0.1, ax = ax[1][1])\n",
    "# ax[1][1].set_title(\"Construction after 1980\", size = 20)\n",
    "# ax[1][1].set_axis_off()\n",
    "\n",
    "# plt.tight_layout()\n",
    "# plt.show()\n",
    "\n",
    "\n",
    "# county_data = gpd.read_file(\"Exam_datasets/georef-united-states-of-america-county.geojson\")\n",
    "# county_data.ste_name = county_data.ste_name.apply(lambda x: x[0])\n",
    "# county_data.coty_name_long = county_data.coty_name_long.apply(lambda x: x[0])\n",
    "\n",
    "# NYC_counties = county_data[county_data.coty_name_long.isin([\"Bronx County\", \"Kings County\", \"New York County\", \"Queens County\", \"Richmond County\"])].query(\"ste_name == 'New York'\")\n",
    "\n",
    "# fig, ax = plt.subplots()\n",
    "# NYC_counties.plot(color = \"white\", alpha = 0.3, edgecolor='black', ax = ax)\n",
    "# new_york_boroughs_map.plot(color = [\"#FF0045\", \"#FFAA00\", \"#FF0000\", \"#00BCFF\", \"#B4FF00\"], alpha = 0.3, ax = ax)\n",
    "# ax.set_title(\"Boroughs with county borders\")\n",
    "# plt.show()"
   ]
  },
  {
   "cell_type": "markdown",
   "metadata": {},
   "source": [
    "## County Map \n",
    "\n",
    "Bruges ikke til noget, men skal lige tjekke om Boroughs og Counties can siges at være nogenlunde det samme i NYC...det tror jeg det kan.\n",
    "\n",
    "Hentes fra: https://public.opendatasoft.com/explore/dataset/georef-united-states-of-america-county/export/?disjunctive.ste_code&disjunctive.ste_name&disjunctive.coty_code&disjunctive.coty_name"
   ]
  }
 ],
 "metadata": {
  "kernelspec": {
   "display_name": "social-visualization-TfeufWp2-py3.8",
   "language": "python",
   "name": "python3"
  },
  "language_info": {
   "codemirror_mode": {
    "name": "ipython",
    "version": 3
   },
   "file_extension": ".py",
   "mimetype": "text/x-python",
   "name": "python",
   "nbconvert_exporter": "python",
   "pygments_lexer": "ipython3",
   "version": "3.8.3"
  },
  "orig_nbformat": 4,
  "vscode": {
   "interpreter": {
    "hash": "0568a2d64552a1c5eacd6d49bfdb6dc9b3c921772f8c82e33aa966dc289da78d"
   }
  }
 },
 "nbformat": 4,
 "nbformat_minor": 2
}
