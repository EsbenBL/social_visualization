{
 "cells": [
  {
   "attachments": {},
   "cell_type": "markdown",
   "metadata": {},
   "source": [
    "# Introdution "
   ]
  },
  {
   "attachments": {},
   "cell_type": "markdown",
   "metadata": {},
   "source": [
    "The notebook is a behind-the-scenes look at the data wrangling behind the story on *The Urbanizational Evolution of New York City - From Seed to Apple* presented on https://esbenbl.github.io/\n",
    "\n",
    "\n",
    "The structure of the notebook is:\n",
    "1. [Motivation](#Motivation)\n",
    "2. [Basic Statistics](#base_stats)\n",
    "3. [Data Analysis](#Data_Analysis)\n",
    "4. [Genre](#Genre)\n",
    "\n",
    "Overall our website and data story structure will be rather linear, structured, with most in common with the magazine visualization genre described by Segel and Heer. But as we also are concerned with keeping the reader active and engaged, we will also incorporate interactive plots in which the reader can explore and engage within the frames of our data story and magazine style, thus if a reader for example have an interest in a specific neighborhood in New York it will be possible to specifically mouse over that and see that neighborhoods data. \n",
    "\n",
    "5. [Visualization](#Visualization)\n",
    "6. [Discussion](#Discussion)\n",
    "7. [Contribution](#Contribution)\n",
    "8. [References](#References)"
   ]
  },
  {
   "attachments": {},
   "cell_type": "markdown",
   "metadata": {},
   "source": [
    "# Motivation <a id=\"Motivation\"></a>\n",
    "\n",
    "\n",
    "New York is one of the most renowned and global metropolises in the world, some even call it the Capital of the World. In the 19th century due to waves of immigration and industrialization the city's population exploded, also transforming New York. Multiple wellknown movies have showcased the renowned scene of an immigrant arriving by boat to New York, starting a new life with the career opportunities of which New York offered. We seek in this data science project to showcase this urbanisational evolution of both industrialisation and immigration. Thus we argue that bysStudying the evolution of New York City's urbanization with focus on migrational and industrial movements we can acquire a historical context for understanding contemporary urban challenges and opportunities, making it an interesting and relevant subject. \n",
    "\n",
    "We will examine New York's urbanization through data from NYC Department of City Planning, where we will combine two datasets from the department. The first dataset is of the 800.000 buildings in New York and their placement, and the second shows the characteristics of the land use and geographic data which the buildings are built upon. Thus we get a full dataset on both the year of each individual building as well as the type of building, eg. is it commercial or residential. Furthermore we also consider including more data on neighborhood level from New york maybe regarding the overall evolution of other parameters in New York's neighborhoods such as, crime, income, education, or the overall evolution of the metropolis such as subways, schools, hospitals.  etc. \n"
   ]
  },
  {
   "attachments": {},
   "cell_type": "markdown",
   "metadata": {},
   "source": [
    "# Basic Statistics <a id=\"base_stats\"></a>"
   ]
  },
  {
   "attachments": {},
   "cell_type": "markdown",
   "metadata": {},
   "source": [
    "- Write about your choices in data cleaning and preprocessing\n",
    "- Write a short section that discusses the dataset stats, containing key points/plots from your exploratory data analysis."
   ]
  },
  {
   "attachments": {},
   "cell_type": "markdown",
   "metadata": {},
   "source": [
    "To be able to gather and examining the urbanisational evolution of New York we had to gather data from multiple sources. This has also lead to "
   ]
  },
  {
   "attachments": {},
   "cell_type": "markdown",
   "metadata": {},
   "source": [
    "load data"
   ]
  },
  {
   "cell_type": "code",
   "execution_count": 2,
   "metadata": {},
   "outputs": [
    {
     "name": "stderr",
     "output_type": "stream",
     "text": [
      "C:\\Users\\asger\\AppData\\Local\\Temp\\ipykernel_23852\\749188831.py:11: DtypeWarning: Columns (21,22,24,26,28) have mixed types. Specify dtype option on import or set low_memory=False.\n",
      "  land_use_dataaset = pd.read_csv(\"Exam_datasets/pluto_22v3_1.csv\")[columns_subset]\n"
     ]
    }
   ],
   "source": [
    "# Building footprints from https://data.cityofnewyork.us/Housing-Development/Building-Footprints/nqwf-w8eh\n",
    "# Documentation https://github.com/CityOfNewYork/nyc-geo-metadata/blob/master/Metadata/Metadata_BuildingFootprints.md\n",
    "building_footprints = gpd.read_file(\"Exam_datasets/Building_Footprints.geojson\") \n",
    "\n",
    "# NYC Borough GeoJson\n",
    "new_york_boroughs_map = gpd.read_file(\"https://raw.githubusercontent.com/codeforgermany/click_that_hood/main/public/data/new-york-city-boroughs.geojson\")\n",
    "\n",
    "# PLUTO Data from https://www.nyc.gov/site/planning/data-maps/open-data/dwn-pluto-mappluto.page\n",
    "columns_subset = [\"borough\",\"cd\", \"latitude\", \"longitude\", 'landuse', \"assesstot\", \"numbldgs\",\n",
    "                  \"numfloors\", \"unitstotal\", \"bldgarea\", \"comarea\", \"resarea\", \"bbl\"]\n",
    "land_use_dataaset = pd.read_csv(\"Exam_datasets/pluto_22v3_1.csv\")[columns_subset]"
   ]
  },
  {
   "attachments": {},
   "cell_type": "markdown",
   "metadata": {},
   "source": [
    "##### Clean data "
   ]
  },
  {
   "attachments": {},
   "cell_type": "markdown",
   "metadata": {},
   "source": [
    "Clean BUILDING FOOTPRINTS"
   ]
  },
  {
   "cell_type": "code",
   "execution_count": 3,
   "metadata": {},
   "outputs": [],
   "source": [
    "# remove missing construction_years\n",
    "building_footprints = building_footprints[-pd.isna(building_footprints.cnstrct_yr)].copy() \n",
    "\n",
    "# To int \n",
    "building_footprints.cnstrct_yr = building_footprints.cnstrct_yr.astype(\"int64\")\n",
    "\n",
    "# Construct bins \n",
    "ten_year_bins = [0]+[year for year in range(1899,2029,10)]+[2030]\n",
    "ten_year_labels = [\"Before 1900\"] + [str(year)+\"s\" for year in range(1900,2020,10)] + [\"2020s\"]\n",
    "\n",
    "# Into Bins\n",
    "building_footprints[\"cnstrct_yr_intervals\"] = pd.cut(building_footprints.cnstrct_yr, bins = ten_year_bins, labels = ten_year_labels)\n",
    "\n",
    "# Align BBL with PLUTOs datatypes \n",
    "building_footprints = building_footprints.rename(columns = {\"mpluto_bbl\":\"bbl\"})\n",
    "building_footprints.bbl = building_footprints.bbl.astype(\"int64\")\n",
    "\n",
    "# Distinguish geometry  \n",
    "building_footprints[\"building_geometry\"] = building_footprints.geometry.copy()"
   ]
  },
  {
   "attachments": {},
   "cell_type": "markdown",
   "metadata": {},
   "source": [
    "clean PLUTO land use data "
   ]
  },
  {
   "cell_type": "code",
   "execution_count": 4,
   "metadata": {},
   "outputs": [],
   "source": [
    "# drop nan for PLUTO\n",
    "land_use_dataaset = land_use_dataaset.dropna().copy() # drop na \n",
    "land_use_dataaset.bbl = land_use_dataaset.bbl.astype(\"int64\") # to int \n",
    "\n",
    "# Dicts to convert values  \n",
    "landuse_key = {1:\"One & Two Family Building\",\n",
    "                2:\"Multi-Family Walk-Up Buildings\",\n",
    "                3:\"Multi-Family Elevator Buildings\",\n",
    "                4:\"Mixed Residential & Commercial Buildings\",\n",
    "                5:\"Commerical & Office Buildings\",\n",
    "                6:\"Industrial & Manufacturing Buildings\",\n",
    "                7:\"Transportation & Utility\",\n",
    "                8:\"Public Facilities & Institutions\",\n",
    "                9:\"Open Space & Outdoor Recreation\",\n",
    "                10: \"Parking Facilities\",\n",
    "                11:\"Vacant Land\"}\n",
    "\n",
    "borough_key = {\"BK\":\"Brooklyn\",\n",
    "               \"QN\":\"Queens\",\n",
    "               \"MN\":\"Manhattan\",\n",
    "               \"BX\":\"Bronx\",\n",
    "               \"SI\":\"Staten Island\"}\n",
    "\n",
    "# Map dicts\n",
    "land_use_dataaset.borough = land_use_dataaset.borough.apply(lambda x: borough_key[x])\n",
    "land_use_dataaset[\"landuse_label\"] =  land_use_dataaset.landuse.apply(lambda x: landuse_key[x])"
   ]
  },
  {
   "attachments": {},
   "cell_type": "markdown",
   "metadata": {},
   "source": [
    "##### Merge datasets"
   ]
  },
  {
   "cell_type": "code",
   "execution_count": 5,
   "metadata": {},
   "outputs": [],
   "source": [
    "buildings_and_landuse = pd.merge(building_footprints, land_use_dataaset, on = \"bbl\", how = \"outer\", indicator = True)"
   ]
  },
  {
   "attachments": {},
   "cell_type": "markdown",
   "metadata": {},
   "source": [
    "##### Sanity Check on Merge "
   ]
  },
  {
   "cell_type": "code",
   "execution_count": 6,
   "metadata": {},
   "outputs": [],
   "source": [
    "only_in_building_footprints = buildings_and_landuse.query(\"_merge == 'left_only'\")\n",
    "only_in_pluto = buildings_and_landuse.query(\"_merge == 'right_only'\")"
   ]
  },
  {
   "cell_type": "code",
   "execution_count": 7,
   "metadata": {},
   "outputs": [
    {
     "name": "stdout",
     "output_type": "stream",
     "text": [
      "Buildings not found in Building Footprint: 6033\n"
     ]
    },
    {
     "data": {
      "image/png": "[encoded data removed]",
      "text/plain": [
       "<Figure size 800x400 with 1 Axes>"
      ]
     },
     "metadata": {},
     "output_type": "display_data"
    }
   ],
   "source": [
    "print(f\"Buildings not found in Building Footprint: {only_in_pluto.shape[0]}\")\n",
    "only_in_pluto.borough.value_counts().plot.bar(title = \"Borough of lots not found in Building Footprints\", figsize = (8,4));"
   ]
  },
  {
   "cell_type": "code",
   "execution_count": 8,
   "metadata": {},
   "outputs": [
    {
     "name": "stdout",
     "output_type": "stream",
     "text": [
      "Buildings not found in PLUTO: 14410\n"
     ]
    },
    {
     "data": {
      "image/png": "[encoded data removed]",
      "text/plain": [
       "<Figure size 800x400 with 1 Axes>"
      ]
     },
     "metadata": {},
     "output_type": "display_data"
    }
   ],
   "source": [
    "print(f\"Buildings not found in PLUTO: {only_in_building_footprints.shape[0]}\")\n",
    "only_in_building_footprints.cnstrct_yr_intervals.value_counts().sort_index().plot.bar(title = \"Construction decade of buildings not found in PLUTO\", figsize = (8,4));"
   ]
  },
  {
   "attachments": {},
   "cell_type": "markdown",
   "metadata": {},
   "source": [
    "##### Keep only BBL matches"
   ]
  },
  {
   "cell_type": "code",
   "execution_count": null,
   "metadata": {},
   "outputs": [],
   "source": [
    "buildings_and_landuse = buildings_and_landuse.query(\"_merge == 'both'\").copy()\n",
    "buildings_and_landuse.cnstrct_yr = buildings_and_landuse.cnstrct_yr.astype(\"int64\")\n",
    "\n",
    "# Dimensions of dataset \n",
    "buildings_and_landuse.shape"
   ]
  },
  {
   "attachments": {},
   "cell_type": "markdown",
   "metadata": {},
   "source": [
    "# Data Analysis<a id=\"Data_Analysis\"></a>"
   ]
  },
  {
   "cell_type": "markdown",
   "metadata": {},
   "source": []
  },
  {
   "attachments": {},
   "cell_type": "markdown",
   "metadata": {},
   "source": [
    "# Genre<a id=\"Genre\"></a>"
   ]
  },
  {
   "cell_type": "code",
   "execution_count": null,
   "metadata": {},
   "outputs": [],
   "source": []
  },
  {
   "attachments": {},
   "cell_type": "markdown",
   "metadata": {},
   "source": [
    "# Visualization<a id=\"Visualization\"></a>\n"
   ]
  },
  {
   "cell_type": "code",
   "execution_count": null,
   "metadata": {},
   "outputs": [],
   "source": []
  },
  {
   "cell_type": "markdown",
   "metadata": {},
   "source": [
    "# Discussion<a id=\"Discussion\"></a>\n"
   ]
  },
  {
   "cell_type": "code",
   "execution_count": null,
   "metadata": {},
   "outputs": [],
   "source": []
  },
  {
   "attachments": {},
   "cell_type": "markdown",
   "metadata": {},
   "source": [
    "# Contribution<a id=\"Contribution\"></a>\n"
   ]
  },
  {
   "cell_type": "code",
   "execution_count": null,
   "metadata": {},
   "outputs": [],
   "source": []
  },
  {
   "attachments": {},
   "cell_type": "markdown",
   "metadata": {},
   "source": [
    "# References<a id=\"References\"></a>"
   ]
  },
  {
   "attachments": {},
   "cell_type": "markdown",
   "metadata": {},
   "source": [
    "## Plot Data"
   ]
  },
  {
   "attachments": {},
   "cell_type": "markdown",
   "metadata": {},
   "source": [
    "Plot Construction in different periods"
   ]
  },
  {
   "cell_type": "code",
   "execution_count": null,
   "metadata": {},
   "outputs": [],
   "source": [
    "fig, ax = plt.subplots(2, 2, figsize = (8,8))\n",
    "\n",
    "# Early plot \n",
    "new_york_boroughs_map.plot(color = \"white\", edgecolor = \"black\", alpha = 0.5, ax = ax[0][0])\n",
    "buildings_and_landuse.query(\"cnstrct_yr < 1900\").plot(markersize = 1, color = \"#E9655C\", alpha = 0.1, ax = ax[0][0])\n",
    "ax[0][0].set_title(\"Construction before 1900\", size = 20)\n",
    "ax[0][0].set_axis_off()\n",
    "\n",
    "# Middle plot \n",
    "new_york_boroughs_map.plot(color = \"white\", edgecolor = \"black\", alpha = 0.5, ax = ax[0][1])\n",
    "buildings_and_landuse.query(\"cnstrct_yr >= 1900 & cnstrct_yr < 1940\").plot(markersize = 1, color = \"#E9655C\", alpha = 0.1, ax = ax[0][1])\n",
    "ax[0][1].set_title(\"Construction between 1900 and 1940\", size = 20)\n",
    "ax[0][1].set_axis_off()\n",
    "\n",
    "# Early plot \n",
    "new_york_boroughs_map.plot(color = \"white\", edgecolor = \"black\", alpha = 0.5, ax = ax[1][0])\n",
    "buildings_and_landuse.query(\"cnstrct_yr >= 1940 & cnstrct_yr < 1980\").plot(markersize = 1, color = \"#E9655C\", alpha = 0.1, ax = ax[1][0])\n",
    "ax[1][0].set_title(\"Construction between 1940 and 1980\", size = 20)\n",
    "ax[1][0].set_axis_off()\n",
    "\n",
    "# Middle plot \n",
    "new_york_boroughs_map.plot(color = \"white\", edgecolor = \"black\", alpha = 0.5, ax = ax[1][1])\n",
    "buildings_and_landuse.query(\"cnstrct_yr >= 1980\").plot(markersize = 1, color = \"#E9655C\", alpha = 0.1, ax = ax[1][1])\n",
    "ax[1][1].set_title(\"Construction after 1980\", size = 20)\n",
    "ax[1][1].set_axis_off()\n",
    "\n",
    "plt.tight_layout()\n",
    "plt.show()"
   ]
  },
  {
   "attachments": {},
   "cell_type": "markdown",
   "metadata": {},
   "source": [
    "Plot Construction by decade "
   ]
  },
  {
   "cell_type": "code",
   "execution_count": null,
   "metadata": {},
   "outputs": [],
   "source": [
    "construction_by_year = buildings_and_landuse.groupby(\"cnstrct_yr_intervals\").size().sort_index()\n",
    "\n",
    "fig, ax  = plt.subplots(figsize = (10,6))\n",
    "construction_by_year.plot.bar(color = \"#E9655C\", alpha = 0.8, width = 0.8)\n",
    "ax.set_title(\"Construction by Decade\", size = 22)\n",
    "ax.set_ylabel(\"Buildings\", size = 20)\n",
    "ax.set_xlabel(\"\")\n",
    "plt.xticks(fontsize=15)\n",
    "plt.yticks(fontsize=15)\n",
    "ax.spines['top'].set_visible(False)\n",
    "ax.spines['right'].set_visible(False)\n",
    "\n",
    "plt.savefig(\"Plots/construction_by_decade.png\", dpi = 300, bbox_inches = \"tight\")\n",
    "plt.show()\n"
   ]
  },
  {
   "attachments": {},
   "cell_type": "markdown",
   "metadata": {},
   "source": [
    "By land use! "
   ]
  },
  {
   "cell_type": "code",
   "execution_count": null,
   "metadata": {},
   "outputs": [],
   "source": [
    "''' Make a stacked barplot here, divided into land use '''"
   ]
  },
  {
   "attachments": {},
   "cell_type": "markdown",
   "metadata": {},
   "source": [
    "### Plots By Bourough "
   ]
  },
  {
   "attachments": {},
   "cell_type": "markdown",
   "metadata": {},
   "source": [
    "Removed early observations "
   ]
  },
  {
   "cell_type": "code",
   "execution_count": null,
   "metadata": {},
   "outputs": [],
   "source": [
    "# Removed early observations \n",
    "buildings_and_landuse_trimmed = buildings_and_landuse.query(\"cnstrct_yr >= 1800\").copy()"
   ]
  },
  {
   "cell_type": "code",
   "execution_count": null,
   "metadata": {},
   "outputs": [],
   "source": [
    "#https://github.com/mwaskom/seaborn/issues/2280\n",
    "# Ændre position af sns legend \n",
    "def move_legend(ax, new_loc, **kws):\n",
    "    old_legend = ax.legend_\n",
    "    handles = old_legend.legend_handles\n",
    "    labels = [t.get_text() for t in old_legend.get_texts()]\n",
    "    title = old_legend.get_title().get_text().title()\n",
    "    ax.legend(handles, labels, loc=new_loc, title=title, **kws)"
   ]
  },
  {
   "cell_type": "markdown",
   "metadata": {},
   "source": [
    "Set xtick frequency (and labels, if necesarry)"
   ]
  },
  {
   "cell_type": "code",
   "execution_count": null,
   "metadata": {},
   "outputs": [],
   "source": [
    "## OBS - Kan bruges til at ændre xticts, men er ikke nødvendigt ift. position og label (i nedenstående er label og position dog det samme)\n",
    "custom_xticks_label = []\n",
    "custom_xticks_position = []\n",
    "\n",
    "for position, year_label in enumerate(sorted(buildings_and_landuse_trimmed.cnstrct_yr.unique())):\n",
    "    if year_label%10==0:\n",
    "        custom_xticks_label.extend([year_label])\n",
    "        custom_xticks_position.extend([position])"
   ]
  },
  {
   "cell_type": "code",
   "execution_count": null,
   "metadata": {},
   "outputs": [],
   "source": [
    "fig, ax  = plt.subplots(figsize = (10,5))\n",
    "plt.rcParams['legend.title_fontsize'] = 'x-large'\n",
    "\n",
    "sns.kdeplot(buildings_and_landuse_trimmed, x =\"cnstrct_yr\", hue = \"borough\", multiple = \"stack\", bw_adjust= 1.5, common_norm = True, linewidth = 0, zorder=1, ax = ax)\n",
    "move_legend(ax, \"upper left\", fontsize = \"x-large\")\n",
    "custom_xticks_position = custom_xticks_label # because x is numerical\n",
    "ax.set_xticks(ticks = custom_xticks_position, labels=custom_xticks_label, rotation=90)\n",
    "#ax.axvspan(xmin=1920, xmax=1930, color='#B6B9BB', alpha=0.5, zorder=0)\n",
    "ax.set_xlim([1800, 2030])\n",
    "ax.set_title(\"Construction by Year and Borough\", size = 22)\n",
    "\n",
    "ax.set_ylabel(\"Density of Probability\", size = 20)\n",
    "ax.set_xlabel(\"\")\n",
    "plt.xticks(fontsize=15)\n",
    "plt.yticks(fontsize=15)\n",
    "ax.spines['top'].set_visible(False)\n",
    "ax.spines['right'].set_visible(False)\n",
    "\n",
    "plt.savefig(\"Plots/construction_distribution_by_borough.png\", dpi = 300, bbox_inches = \"tight\")\n",
    "plt.tight_layout()\n",
    "plt.show()"
   ]
  },
  {
   "cell_type": "code",
   "execution_count": null,
   "metadata": {},
   "outputs": [],
   "source": [
    "# fig, ax  = plt.subplots(figsize = (10,6))\n",
    "\n",
    "# sns.kdeplot(buildings_and_landuse_trimmed, x =\"cnstrct_yr\", hue = \"borough\", multiple = \"stack\", bw_adjust= 1.5, common_norm = True, linewidth = 0, cumulative = True,  ax = ax)\n",
    "# move_legend(ax, \"upper left\")\n",
    "# custom_xticks_position = custom_xticks_label # because x is numerical\n",
    "# ax.set_xticks(ticks = custom_xticks_position, labels=custom_xticks_label, rotation=90)\n",
    "# ax.set_xlim([1800, 2030])\n",
    "# ax.set_title(\"Cumulative Construction by Year and Bourough\")\n",
    "\n",
    "# plt.tight_layout()\n",
    "# plt.show()"
   ]
  },
  {
   "attachments": {},
   "cell_type": "markdown",
   "metadata": {},
   "source": [
    "## By Square Feet \n",
    "\n",
    "Documentation: \n",
    "- COMMERCIAL FLOOR AREA is the sum of floor areas for office, retail, garage,\n",
    "storage, factory, and other uses."
   ]
  }
 ],
 "metadata": {
  "kernelspec": {
   "display_name": "social-visualization-TfeufWp2-py3.8",
   "language": "python",
   "name": "python3"
  },
  "language_info": {
   "codemirror_mode": {
    "name": "ipython",
    "version": 3
   },
   "file_extension": ".py",
   "mimetype": "text/x-python",
   "name": "python",
   "nbconvert_exporter": "python",
   "pygments_lexer": "ipython3",
   "version": "3.11.2"
  },
  "orig_nbformat": 4,
  "vscode": {
   "interpreter": {
    "hash": "0568a2d64552a1c5eacd6d49bfdb6dc9b3c921772f8c82e33aa966dc289da78d"
   }
  }
 },
 "nbformat": 4,
 "nbformat_minor": 2
}
