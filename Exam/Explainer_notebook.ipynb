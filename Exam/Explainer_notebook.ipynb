{
 "cells": [
  {
   "attachments": {},
   "cell_type": "markdown",
   "metadata": {},
   "source": [
    "# Introdution "
   ]
  },
  {
   "attachments": {},
   "cell_type": "markdown",
   "metadata": {},
   "source": [
    "The notebook is a behind-the-scenes look at the data wrangling behind the story on *The Urbanizational Evolution of New York City - From Seed to Apple* presented on https://esbenbl.github.io/\n",
    "\n",
    "\n",
    "The structure of the notebook is:\n",
    "1. [Motivation](#Motivation)\n",
    "2. [Basic Statistics](#base_stats)\n",
    "3. [Data Analysis](#Data_Analysis)\n",
    "4. [Genre](#Genre)\n",
    "5. [Visualization](#Visualization)\n",
    "6. [Discussion](#Discussion)\n",
    "7. [Contribution](#Controbution)\n",
    "8. [References](#References)"
   ]
  },
  {
   "attachments": {},
   "cell_type": "markdown",
   "metadata": {},
   "source": [
    "# Motivation <a id=\"Motivation\"></a>\n",
    "- What is your dataset?\n",
    "- Why did you choose this/these particular dataset(s)?\n",
    "- What was your goal for the end user's experience?\n"
   ]
  },
  {
   "attachments": {},
   "cell_type": "markdown",
   "metadata": {},
   "source": [
    "New York is one of the most renowned and global metropolises in the world, some even call it the Capital of the World. In the 19th century due to waves of immigration and industrialization the city's population exploded, also transforming New York. The transformation of New York City’s physical, social and cultural landscape during the 19th time period shaped the cities identity and influenced the development of urban planning, transportation and social policies that continue to shape the city's urban fabric today. Studying the evolution of New York City's urbanization thus provides a rich historical context for understanding contemporary urban challenges and opportunities, making it an interesting and relevant subject for examination. \n",
    "\n",
    "We will examine New York's urbanization through data from NYC Department of City Planning, where we will combine two datasets from the department. The first dataset is of the 800.000 buildings in New York and their placement, and the second shows the characteristics of the land use and geographic data which the buildings are built upon. Thus we get a full dataset on both the year of each individual building as well as the type of building, eg. is it commercial or residential. Furthermore we also consider including more data on neighborhood level from New york maybe regarding the overall evolution of other parameters in New York's neighborhoods such as, crime, income, education, or the overall evolution of the metropolis such as subways, schools, hospitals.  etc. "
   ]
  },
  {
   "attachments": {},
   "cell_type": "markdown",
   "metadata": {},
   "source": [
    "# Basic Statistics <a id=\"base_stats\"></a>\n",
    "- Write about your choices in data cleaning and preprocessing\n",
    "- Write a short section that discusses the dataset stats, containing key points/plots from your exploratory data analysis."
   ]
  },
  {
   "cell_type": "code",
   "execution_count": null,
   "metadata": {},
   "outputs": [],
   "source": [
    "import geopandas as gpd\n",
    "import requests \n",
    "import matplotlib.pyplot as plt \n",
    "plt.rcParams[\"font.family\"] = \"Garamond\"\n",
    "import seaborn as sns\n",
    "import numpy as np\n",
    "import pandas as pd\n",
    "import requests\n",
    "from scipy.interpolate import interp1d"
   ]
  },
  {
   "attachments": {},
   "cell_type": "markdown",
   "metadata": {},
   "source": [
    "load data"
   ]
  },
  {
   "cell_type": "code",
   "execution_count": null,
   "metadata": {},
   "outputs": [],
   "source": [
    "# Building footprints from https://data.cityofnewyork.us/Housing-Development/Building-Footprints/nqwf-w8eh\n",
    "# Documentation https://github.com/CityOfNewYork/nyc-geo-metadata/blob/master/Metadata/Metadata_BuildingFootprints.md\n",
    "building_footprints = gpd.read_file(\"Exam_datasets/Building_Footprints.geojson\") \n",
    "\n",
    "# NYC Borough GeoJson\n",
    "new_york_boroughs_map = gpd.read_file(\"https://raw.githubusercontent.com/codeforgermany/click_that_hood/main/public/data/new-york-city-boroughs.geojson\")\n",
    "\n",
    "# PLUTO Data from https://www.nyc.gov/site/planning/data-maps/open-data/dwn-pluto-mappluto.page\n",
    "columns_subset = [\"borough\",\"cd\", \"latitude\", \"longitude\", 'landuse', \"assesstot\", \"numbldgs\",\n",
    "                  \"numfloors\", \"unitstotal\", \"bldgarea\", \"comarea\", \"resarea\", \"bbl\"]\n",
    "land_use_dataaset = pd.read_csv(\"Exam_datasets/pluto_22v3_1.csv\")[columns_subset]"
   ]
  },
  {
   "attachments": {},
   "cell_type": "markdown",
   "metadata": {},
   "source": [
    "#### Clean data "
   ]
  },
  {
   "attachments": {},
   "cell_type": "markdown",
   "metadata": {},
   "source": [
    "Clean BUILDING FOOTPRINTS"
   ]
  },
  {
   "cell_type": "code",
   "execution_count": null,
   "metadata": {},
   "outputs": [],
   "source": [
    "# remove missing construction_years\n",
    "building_footprints = building_footprints[-pd.isna(building_footprints.cnstrct_yr)].copy() \n",
    "\n",
    "# To int \n",
    "building_footprints.cnstrct_yr = building_footprints.cnstrct_yr.astype(\"int64\")\n",
    "\n",
    "# Construct bins \n",
    "ten_year_bins = [0]+[year for year in range(1899,2029,10)]+[2030]\n",
    "ten_year_labels = [\"Before 1900\"] + [str(year)+\"s\" for year in range(1900,2020,10)] + [\"2020s\"]\n",
    "\n",
    "# Into Bins\n",
    "building_footprints[\"cnstrct_yr_intervals\"] = pd.cut(building_footprints.cnstrct_yr, bins = ten_year_bins, labels = ten_year_labels)\n",
    "\n",
    "# Align BBL with PLUTOs datatypes \n",
    "building_footprints = building_footprints.rename(columns = {\"mpluto_bbl\":\"bbl\"})\n",
    "building_footprints.bbl = building_footprints.bbl.astype(\"int64\")\n",
    "\n",
    "# Distinguish geometry  \n",
    "building_footprints[\"building_geometry\"] = building_footprints.geometry.copy()"
   ]
  },
  {
   "attachments": {},
   "cell_type": "markdown",
   "metadata": {},
   "source": [
    "clean PLUTO land use data "
   ]
  },
  {
   "cell_type": "code",
   "execution_count": null,
   "metadata": {},
   "outputs": [],
   "source": [
    "# drop nan for PLUTO\n",
    "land_use_dataaset = land_use_dataaset.dropna().copy() # drop na \n",
    "land_use_dataaset.bbl = land_use_dataaset.bbl.astype(\"int64\") # to int \n",
    "\n",
    "# Dicts to convert values  \n",
    "landuse_key = {1:\"One & Two Family Building\",\n",
    "                2:\"Multi-Family Walk-Up Buildings\",\n",
    "                3:\"Multi-Family Elevator Buildings\",\n",
    "                4:\"Mixed Residential & Commercial Buildings\",\n",
    "                5:\"Commerical & Office Buildings\",\n",
    "                6:\"Industrial & Manufacturing Buildings\",\n",
    "                7:\"Transportation & Utility\",\n",
    "                8:\"Public Facilities & Institutions\",\n",
    "                9:\"Open Space & Outdoor Recreation\",\n",
    "                10: \"Parking Facilities\",\n",
    "                11:\"Vacant Land\"}\n",
    "\n",
    "borough_key = {\"BK\":\"Brooklyn\",\n",
    "               \"QN\":\"Queens\",\n",
    "               \"MN\":\"Manhattan\",\n",
    "               \"BX\":\"Bronx\",\n",
    "               \"SI\":\"Staten Island\"}\n",
    "\n",
    "# Map dicts\n",
    "land_use_dataaset.borough = land_use_dataaset.borough.apply(lambda x: borough_key[x])\n",
    "land_use_dataaset[\"landuse_label\"] =  land_use_dataaset.landuse.apply(lambda x: landuse_key[x])"
   ]
  },
  {
   "attachments": {},
   "cell_type": "markdown",
   "metadata": {},
   "source": [
    "### Merge datasets"
   ]
  },
  {
   "cell_type": "code",
   "execution_count": null,
   "metadata": {},
   "outputs": [],
   "source": [
    "buildings_and_landuse = pd.merge(building_footprints, land_use_dataaset, on = \"bbl\", how = \"outer\", indicator = True)"
   ]
  },
  {
   "attachments": {},
   "cell_type": "markdown",
   "metadata": {},
   "source": [
    "### Sanity Check on Merge "
   ]
  },
  {
   "cell_type": "code",
   "execution_count": null,
   "metadata": {},
   "outputs": [],
   "source": [
    "only_in_building_footprints = buildings_and_landuse.query(\"_merge == 'left_only'\")\n",
    "only_in_pluto = buildings_and_landuse.query(\"_merge == 'right_only'\")"
   ]
  },
  {
   "cell_type": "code",
   "execution_count": null,
   "metadata": {},
   "outputs": [],
   "source": [
    "print(f\"Buildings not found in Building Footprint: {only_in_pluto.shape[0]}\")\n",
    "only_in_pluto.borough.value_counts().plot.bar(title = \"Borough of lots not found in Building Footprints\", figsize = (8,4));"
   ]
  },
  {
   "cell_type": "code",
   "execution_count": null,
   "metadata": {},
   "outputs": [],
   "source": [
    "print(f\"Buildings not found in PLUTO: {only_in_building_footprints.shape[0]}\")\n",
    "only_in_building_footprints.cnstrct_yr_intervals.value_counts().sort_index().plot.bar(title = \"Construction decade of buildings not found in PLUTO\", figsize = (8,4));"
   ]
  },
  {
   "attachments": {},
   "cell_type": "markdown",
   "metadata": {},
   "source": [
    "### Keep only BBL matches"
   ]
  },
  {
   "cell_type": "code",
   "execution_count": null,
   "metadata": {},
   "outputs": [],
   "source": [
    "buildings_and_landuse = buildings_and_landuse.query(\"_merge == 'both'\").copy()\n",
    "buildings_and_landuse.cnstrct_yr = buildings_and_landuse.cnstrct_yr.astype(\"int64\")\n",
    "\n",
    "# Dimensions of dataset \n",
    "buildings_and_landuse.shape"
   ]
  },
  {
   "attachments": {},
   "cell_type": "markdown",
   "metadata": {},
   "source": [
    "# Data Analysis <a id=\"Data_Analysis\"></a>\n",
    "- Describe your data analysis and explain what you've learned about the dataset.\n",
    "- If relevant, talk about your machine-learning."
   ]
  },
  {
   "cell_type": "code",
   "execution_count": null,
   "metadata": {},
   "outputs": [],
   "source": []
  },
  {
   "attachments": {},
   "cell_type": "markdown",
   "metadata": {},
   "source": [
    "# Genre <a id=\"Genre\"></a>\n",
    "- Which tools did you use from each of the 3 categories of Visual Narrative (Figure 7 in Segal and Heer). Why?\n",
    "- Which tools did you use from each of the 3 categories of Narrative Structure (Figure 7 in Segal and Heer). Why?"
   ]
  },
  {
   "attachments": {},
   "cell_type": "markdown",
   "metadata": {},
   "source": [
    "Overall our website and data story structure will be rather linear, structured, with most in common with the magazine visualization genre described by Segel and Heer. But as we also are concerned with keeping the reader active and engaged, we will also incorporate interactive plots in which the reader can explore and engage within the frames of our data story and magazine style, thus if a reader for example have an interest in a specific neighborhood in New York it will be possible to specifically mouse over that and see that neighborhoods data. "
   ]
  },
  {
   "attachments": {},
   "cell_type": "markdown",
   "metadata": {},
   "source": [
    "# Visualizations<a id=\"Visualizations\"></a>\n",
    "- Explain the visualizations you've chosen.\n",
    "- Why are they right for the story you want to tell?"
   ]
  },
  {
   "attachments": {},
   "cell_type": "markdown",
   "metadata": {},
   "source": [
    "# Discussion<a id=\"Discussion\"></a>\n",
    "- What went well?,\n",
    "- What is still missing? What could be improved?, Why?"
   ]
  },
  {
   "attachments": {},
   "cell_type": "markdown",
   "metadata": {},
   "source": [
    "# Contributions<a id=\"Contributions\"></a>\n",
    "- You should write (just briefly) which group member was the main responsible for which elements of the assignment. (I want you guys to understand every part of the assignment, but usually there is someone who took lead role on certain portions of the work. That's what you should explain).\n",
    "- It is not OK simply to write \"All group members contributed equally\"."
   ]
  },
  {
   "attachments": {},
   "cell_type": "markdown",
   "metadata": {},
   "source": [
    "# References <a id=\"References\"></a>\n",
    "- Make sure that you use references when they're needed and follow academic standards."
   ]
  }
 ],
 "metadata": {
  "kernelspec": {
   "display_name": "social-visualization-TfeufWp2-py3.8",
   "language": "python",
   "name": "python3"
  },
  "language_info": {
   "codemirror_mode": {
    "name": "ipython",
    "version": 3
   },
   "file_extension": ".py",
   "mimetype": "text/x-python",
   "name": "python",
   "nbconvert_exporter": "python",
   "pygments_lexer": "ipython3",
   "version": "3.11.2"
  },
  "orig_nbformat": 4,
  "vscode": {
   "interpreter": {
    "hash": "0568a2d64552a1c5eacd6d49bfdb6dc9b3c921772f8c82e33aa966dc289da78d"
   }
  }
 },
 "nbformat": 4,
 "nbformat_minor": 2
}
